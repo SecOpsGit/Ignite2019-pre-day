{
 "cells": [
  {
   "cell_type": "markdown",
   "metadata": {},
   "source": [
    "Copyright (c) Microsoft Corporation. All rights reserved.\n",
    "\n",
    "Licensed under the MIT License."
   ]
  },
  {
   "cell_type": "code",
   "execution_count": null,
   "metadata": {},
   "outputs": [],
   "source": [
    "import os\n",
    "import urllib\n",
    "import shutil\n",
    "import azureml\n",
    "\n",
    "from azureml.core import Experiment\n",
    "from azureml.core import Workspace, Run\n",
    "from azureml.core.compute import ComputeTarget, AmlCompute\n",
    "from azureml.core.compute_target import ComputeTargetException\n",
    "\n",
    "from azureml.train.sklearn import SKLearn\n",
    "from azureml.train.hyperdrive import GridParameterSampling\n",
    "from azureml.train.hyperdrive import HyperDriveConfig\n",
    "from azureml.train.hyperdrive import PrimaryMetricGoal\n",
    "from azureml.train.hyperdrive.parameter_expressions import choice\n",
    "\n",
    "from azureml.widgets import RunDetails"
   ]
  },
  {
   "cell_type": "code",
   "execution_count": null,
   "metadata": {},
   "outputs": [],
   "source": [
    "ws = Workspace.from_config()"
   ]
  },
  {
   "cell_type": "code",
   "execution_count": null,
   "metadata": {},
   "outputs": [],
   "source": [
    "exp = Experiment(workspace = ws, name = \"house_prices_prediction\")"
   ]
  },
  {
   "cell_type": "code",
   "execution_count": null,
   "metadata": {},
   "outputs": [],
   "source": [
    "ds = ws.get_default_datastore()"
   ]
  },
  {
   "cell_type": "code",
   "execution_count": null,
   "metadata": {},
   "outputs": [],
   "source": [
    "ds.upload(src_dir = \"./data\", target_path = \"data\", overwrite = True, show_progress = True)"
   ]
  },
  {
   "cell_type": "code",
   "execution_count": null,
   "metadata": {},
   "outputs": [],
   "source": [
    "cluster_name = \"compute01\"\n",
    "\n",
    "try:\n",
    "    compute_target = ComputeTarget(workspace = ws, name = cluster_name)\n",
    "    print(\"Found existing compute target\")\n",
    "except ComputeTargetException:\n",
    "    print(\"Creating a new compute target...\")\n",
    "    compute_config = AmlCompute.provisioning_configuration(vm_size = \"STANDARD_DS12_V2\", \n",
    "                                                           max_nodes = 6)\n",
    "\n",
    "    compute_target = ComputeTarget.create(ws, cluster_name, compute_config)\n",
    "\n",
    "    compute_target.wait_for_completion(show_output = True, min_node_count = None, timeout_in_minutes = 20)"
   ]
  },
  {
   "cell_type": "code",
   "execution_count": null,
   "metadata": {},
   "outputs": [],
   "source": [
    "script_folder = \"./scripts\"\n",
    "\n",
    "script_params = {\n",
    "    \"--data-folder\": ds.as_mount()\n",
    "}\n",
    "\n",
    "estimator = SKLearn(source_directory = script_folder, \n",
    "                    compute_target = compute_target,\n",
    "                    entry_script = \"train_model.py\",\n",
    "                    script_params = script_params\n",
    "                   )"
   ]
  },
  {
   "cell_type": "code",
   "execution_count": null,
   "metadata": {},
   "outputs": [],
   "source": [
    "param_sampling = GridParameterSampling({\n",
    "    \"n-estimators\": choice(500, 750, 1000),\n",
    "    \"max-depth\": choice(4, 6),\n",
    "    \"min-samples-split\": choice(2, 4),\n",
    "    \"learning-rate\": choice(0.01, 0.001)\n",
    "})"
   ]
  },
  {
   "cell_type": "code",
   "execution_count": null,
   "metadata": {},
   "outputs": [],
   "source": [
    "hyperdrive_run_config = HyperDriveConfig(estimator = estimator,\n",
    "                                         hyperparameter_sampling = param_sampling,\n",
    "                                         policy = None,\n",
    "                                         primary_metric_name = \"test_MAE\",\n",
    "                                         primary_metric_goal = PrimaryMetricGoal.MINIMIZE,\n",
    "                                         max_total_runs = 100,\n",
    "                                         max_concurrent_runs = 24)"
   ]
  },
  {
   "cell_type": "code",
   "execution_count": null,
   "metadata": {},
   "outputs": [],
   "source": [
    "hyperdrive_run = exp.submit(hyperdrive_run_config)"
   ]
  },
  {
   "cell_type": "code",
   "execution_count": null,
   "metadata": {},
   "outputs": [],
   "source": [
    "RunDetails(hyperdrive_run).show()"
   ]
  },
  {
   "cell_type": "code",
   "execution_count": null,
   "metadata": {},
   "outputs": [],
   "source": [
    "import pandas as pd\n",
    "\n",
    "children = list(hyperdrive_run.get_children())\n",
    "metricslist = {}\n",
    "i = 0\n",
    "\n",
    "for single_run in children:\n",
    "    results = {k: v for k, v in single_run.get_metrics().items() if isinstance(v, float)}\n",
    "    parameters = single_run.get_details()[\"runDefinition\"][\"arguments\"]\n",
    "    try:\n",
    "        results[\"n-estimators\"] = parameters[3]\n",
    "        results[\"max-depth\"] = parameters[5]\n",
    "        results[\"min-samples-split\"] = parameters[7]\n",
    "        results[\"learning-rate\"] = parameters[9]\n",
    "    except:\n",
    "        results[\"n-estimators\"] = \"N/A\"\n",
    "        results[\"max-depth\"] = \"N/A\"\n",
    "        results[\"min-samples-split\"] = \"N/A\"\n",
    "        results[\"learning-rate\"] = \"N/A\"\n",
    "    metricslist[i] = results\n",
    "    i += 1\n",
    "\n",
    "rundata = pd.DataFrame(metricslist).sort_index(1).T.sort_values(by = [\"test_MAE\"], \n",
    "                                                                ascending = True)\n",
    "display(rundata)"
   ]
  }
 ],
 "metadata": {
  "kernelspec": {
   "display_name": "Python 3",
   "language": "python",
   "name": "python3"
  },
  "language_info": {
   "codemirror_mode": {
    "name": "ipython",
    "version": 3
   },
   "file_extension": ".py",
   "mimetype": "text/x-python",
   "name": "python",
   "nbconvert_exporter": "python",
   "pygments_lexer": "ipython3",
   "version": "3.6.9"
  }
 },
 "nbformat": 4,
 "nbformat_minor": 2
}
