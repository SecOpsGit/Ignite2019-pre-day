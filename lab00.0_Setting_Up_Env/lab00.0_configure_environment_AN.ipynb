{
  "cells": [
    {
      "metadata": {},
      "cell_type": "markdown",
      "source": "# Configure your Azure Notebooks Environment\n\nThe configuration of your Azure Notebooks environment involves several steps:\n1. Install the python modules needed for this course\n1. Create your Azure Machine Learning (ML) Workspace\n\n## Installing Python modules\n\n>  You can skip this step if we provided an ADB cluster for you, because these modules will already be installed. \n\nBegin by installing the following libraries.\n\n1. pyculiarity"
    },
    {
      "metadata": {},
      "cell_type": "markdown",
      "source": "First, check whether the module is already installed. If you get an error message in the next cell, this means you still need to install it."
    },
    {
      "metadata": {
        "trusted": true
      },
      "cell_type": "code",
      "source": "import pyculiarity",
      "execution_count": null,
      "outputs": []
    },
    {
      "metadata": {},
      "cell_type": "markdown",
      "source": "run the following cell to install pyculiarity"
    },
    {
      "metadata": {
        "trusted": true,
        "scrolled": true
      },
      "cell_type": "code",
      "source": "%%bash\n\npip install pyculiarity",
      "execution_count": null,
      "outputs": []
    },
    {
      "metadata": {},
      "cell_type": "markdown",
      "source": "## Create Azure ML Workspace"
    },
    {
      "metadata": {
        "trusted": true
      },
      "cell_type": "code",
      "source": "import azureml.core\n\n# Check core SDK version number - based on build number of preview/master.\nprint(\"SDK version:\", azureml.core.VERSION)",
      "execution_count": null,
      "outputs": []
    },
    {
      "metadata": {},
      "cell_type": "markdown",
      "source": "Before you run the following cell, you need to fill in you `subscription_id` and your `resource_group`."
    },
    {
      "metadata": {
        "trusted": true
      },
      "cell_type": "code",
      "source": "subscription_id = \"\"\nresource_group = \"my_airlift_rg\"\nworkspace_name = \"myAirliftWs\"\nworkspace_region = \"westus2\"",
      "execution_count": null,
      "outputs": []
    },
    {
      "metadata": {},
      "cell_type": "markdown",
      "source": "Running the following cell will do two things:\n1. Perform interactive authentication with Azure\n2. Create a workspace\n\n> **Important:** Make sure to pay attention to the output of the cell, because it will give you instructions about how to perform interactive authentication.  After you completed authentication, creating the workspace may take up to a minute."
    },
    {
      "metadata": {
        "trusted": true
      },
      "cell_type": "code",
      "source": "# import the Workspace class and check the azureml SDK version\n# exist_ok checks if workspace exists or not.\n\nfrom azureml.core import Workspace\n\nws = Workspace.create(name = workspace_name,\n                      subscription_id = subscription_id,\n                      resource_group = resource_group, \n                      location = workspace_region,\n                      exist_ok=True)\n\nws.get_details()",
      "execution_count": null,
      "outputs": []
    },
    {
      "metadata": {},
      "cell_type": "markdown",
      "source": "Confirm that the workspace has been created successfully, and if so, we write the configuration to json file (`config.json`) for later use."
    },
    {
      "metadata": {
        "trusted": true
      },
      "cell_type": "code",
      "source": "ws = Workspace(workspace_name = workspace_name,\n               subscription_id = subscription_id,\n               resource_group = resource_group)\n\nconfig_path='..' \n\n# persist the subscription id, resource group name, and workspace name in aml_config/config.json.\nws.write_config(path=config_path)",
      "execution_count": null,
      "outputs": []
    },
    {
      "metadata": {},
      "cell_type": "markdown",
      "source": "Confirm that it is possible to create the workspacce from the `config.json` file we created above."
    },
    {
      "metadata": {
        "trusted": true
      },
      "cell_type": "code",
      "source": "from azureml.core.workspace import Workspace\nimport os\n\nws = Workspace.from_config(path=os.path.join(config_path, 'aml_config','config.json'))\n\nprint('Workspace name: ' + ws.name, \n      'Azure region: ' + ws.location, \n      'Subscription id: ' + ws.subscription_id, \n      'Resource group: ' + ws.resource_group, sep = '\\n')",
      "execution_count": null,
      "outputs": []
    },
    {
      "metadata": {
        "trusted": true
      },
      "cell_type": "code",
      "source": "",
      "execution_count": null,
      "outputs": []
    }
  ],
  "metadata": {
    "kernelspec": {
      "name": "python36",
      "display_name": "Python 3.6",
      "language": "python"
    },
    "language_info": {
      "mimetype": "text/x-python",
      "nbconvert_exporter": "python",
      "name": "python",
      "pygments_lexer": "ipython3",
      "version": "3.6.6",
      "file_extension": ".py",
      "codemirror_mode": {
        "version": 3,
        "name": "ipython"
      }
    },
    "name": "configure_environment_ADB",
    "notebookId": 1951564739234054
  },
  "nbformat": 4,
  "nbformat_minor": 1
}