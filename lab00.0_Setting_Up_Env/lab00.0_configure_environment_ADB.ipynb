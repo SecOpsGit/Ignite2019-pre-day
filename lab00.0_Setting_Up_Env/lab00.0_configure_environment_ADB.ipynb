{
  "cells": [
    {
      "metadata": {},
      "cell_type": "markdown",
      "source": "# Configure your Azure Databricks (ADB) Environment\n\nThe configuration of your ADB environment involves several steps:\n1. Install the python modules needed for this course\n2. Install the solutions to hands-on labs (optional)\n3. Create your Azure Machine Learning (ML) Workspace\n\n## Installing Python modules\n\n>  You can skip this step if we provided an ADB cluster for you, because these modules will already be installed. \n\nBegin by installing the following libraries, in the presented order.\n\n1. pyopenssl==16.0.0\n2. azureml-train[databricks]==0.1.74\n3. rstl\n4. pyculiarity\n\n## Install solutions to hands-on labs\n\n> If you are sure (how could you?) that you will be able to solve all the hands-on labs, you can skip this step.\n\nWe have created a python package that contains all the solutions to the hands-on labs of this course. \n\nYou can find a Python Egg file (adpm_solutions-0.1-py3.5.egg) for this package in the `dist` folder of the github repository for this course. \n\n## Create Azure ML Workspace"
    },
    {
      "metadata": {
        "trusted": true
      },
      "cell_type": "code",
      "source": "import azureml.core\n\n# Check core SDK version number - based on build number of preview/master.\nprint(\"SDK version:\", azureml.core.VERSION)",
      "execution_count": 1,
      "outputs": [
        {
          "output_type": "stream",
          "text": "SDK version: 1.0.2\n",
          "name": "stdout"
        }
      ]
    },
    {
      "metadata": {},
      "cell_type": "markdown",
      "source": "Before you run the following cell, you need to fill in you `subscription_id` and your `resource_group`."
    },
    {
      "metadata": {
        "trusted": true
      },
      "cell_type": "code",
      "source": "subscription_id = \"5be49961-ea44-42ec-8021-b728be90d58c\"\nresource_group = \"wopauli_AD\"\nworkspace_name = \"myADworkspace\"\nworkspace_region = \"westus2\"",
      "execution_count": 2,
      "outputs": []
    },
    {
      "metadata": {},
      "cell_type": "markdown",
      "source": "Running the following cell will do two things:\n1. Perform interactive authentication with Azure\n2. Create a workspace\n\n> **Important:** Make sure to pay attention to the output of the cell, because it will give you instructions about how to perform interactive authentication.  After you completed authentication, creating the workspace may take up to a minute."
    },
    {
      "metadata": {
        "trusted": true
      },
      "cell_type": "code",
      "source": "# import the Workspace class and check the azureml SDK version\n# exist_ok checks if workspace exists or not.\n\nfrom azureml.core import Workspace\n\nws = Workspace.create(name = workspace_name,\n                      subscription_id = subscription_id,\n                      resource_group = resource_group, \n                      location = workspace_region,\n                      exist_ok=True)\n\nws.get_details()",
      "execution_count": 3,
      "outputs": [
        {
          "output_type": "execute_result",
          "execution_count": 3,
          "data": {
            "text/plain": "{'id': '/subscriptions/5be49961-ea44-42ec-8021-b728be90d58c/resourceGroups/wopauli_AD/providers/Microsoft.MachineLearningServices/workspaces/myADworkspace',\n 'name': 'myADworkspace',\n 'location': 'westus2',\n 'type': 'Microsoft.MachineLearningServices/workspaces',\n 'workspaceid': '49d41f78-827e-4beb-b761-a4dedef895db',\n 'description': '',\n 'friendlyName': 'myADworkspace',\n 'creationTime': '2018-12-17T20:30:26.4447476+00:00',\n 'containerRegistry': '/subscriptions/5be49961-ea44-42ec-8021-b728be90d58c/resourcegroups/wopauli_ad/providers/microsoft.containerregistry/registries/myadworkacrgfwbjfiz',\n 'keyVault': '/subscriptions/5be49961-ea44-42ec-8021-b728be90d58c/resourcegroups/wopauli_ad/providers/microsoft.keyvault/vaults/myadworkkeyvaultcjoanhrb',\n 'applicationInsights': '/subscriptions/5be49961-ea44-42ec-8021-b728be90d58c/resourcegroups/wopauli_ad/providers/microsoft.insights/components/myadworkinsightsurtqgdes',\n 'identityPrincipalId': '4c7164d5-bd3e-45a7-ae3e-bf00743c882b',\n 'identityTenantId': '72f988bf-86f1-41af-91ab-2d7cd011db47',\n 'identityType': 'SystemAssigned',\n 'storageAccount': '/subscriptions/5be49961-ea44-42ec-8021-b728be90d58c/resourcegroups/wopauli_ad/providers/microsoft.storage/storageaccounts/myadworkstoragemthzzpzu'}"
          },
          "metadata": {}
        }
      ]
    },
    {
      "metadata": {},
      "cell_type": "markdown",
      "source": "Confirm that the workspace has been created successfully, and if so, we write the configuration to json file (`config.json`) for later use."
    },
    {
      "metadata": {
        "trusted": true
      },
      "cell_type": "code",
      "source": "ws = Workspace(workspace_name = workspace_name,\n               subscription_id = subscription_id,\n               resource_group = resource_group)\n\nconfig_path='..' #'/dbfs/tmp/'\n\n# persist the subscription id, resource group name, and workspace name in aml_config/config.json.\nws.write_config(path=config_path)",
      "execution_count": 4,
      "outputs": [
        {
          "output_type": "stream",
          "text": "Wrote the config file config.json to: /home/nbuser/library/aml_config/config.json\n",
          "name": "stdout"
        }
      ]
    },
    {
      "metadata": {},
      "cell_type": "markdown",
      "source": "Confirm that it is possible to create the workspacce from the `config.json` file we created above."
    },
    {
      "metadata": {
        "trusted": true
      },
      "cell_type": "code",
      "source": "from azureml.core.workspace import Workspace\nimport os\n\nws = Workspace.from_config(path=os.path.join(config_path, 'aml_config','config.json'))\n\nprint('Workspace name: ' + ws.name, \n      'Azure region: ' + ws.location, \n      'Subscription id: ' + ws.subscription_id, \n      'Resource group: ' + ws.resource_group, sep = '\\n')",
      "execution_count": 5,
      "outputs": [
        {
          "output_type": "stream",
          "text": "Found the config file in: /home/nbuser/library/aml_config/config.json\nWorkspace name: myADworkspace\nAzure region: westus2\nSubscription id: 5be49961-ea44-42ec-8021-b728be90d58c\nResource group: wopauli_AD\n",
          "name": "stdout"
        }
      ]
    },
    {
      "metadata": {
        "trusted": true
      },
      "cell_type": "code",
      "source": "",
      "execution_count": null,
      "outputs": []
    }
  ],
  "metadata": {
    "kernelspec": {
      "name": "python36",
      "display_name": "Python 3.6",
      "language": "python"
    },
    "language_info": {
      "mimetype": "text/x-python",
      "nbconvert_exporter": "python",
      "name": "python",
      "pygments_lexer": "ipython3",
      "version": "3.6.6",
      "file_extension": ".py",
      "codemirror_mode": {
        "version": 3,
        "name": "ipython"
      }
    },
    "name": "configure_environment_ADB",
    "notebookId": 1951564739234054
  },
  "nbformat": 4,
  "nbformat_minor": 1
}