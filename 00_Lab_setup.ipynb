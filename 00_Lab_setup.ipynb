{
 "cells": [
  {
   "cell_type": "markdown",
   "metadata": {},
   "source": [
    "Let's begin by creating a conda environment for the lab:"
   ]
  },
  {
   "cell_type": "code",
   "execution_count": null,
   "metadata": {},
   "outputs": [],
   "source": [
    "!chmod 755 install_lab.sh\n",
    "!ls -alh .\n",
    "!./install_lab.sh"
   ]
  },
  {
   "cell_type": "markdown",
   "metadata": {},
   "source": [
    "Before running the next cell, we would need to create an Azure Machine Learning (AML) service Workspace. We have created one for you already, but you can create one by yourself if you follow [these instructions](https://docs.microsoft.com/en-us/azure/machine-learning/service/how-to-manage-workspace).  Copy and paste the corresponding entries from your lab credentials page into the cell below. Look up **Application/Client Id** for `service_principal_id`, and **Application Secret Key** for `service_principal_password`. All other entries have matching names."
   ]
  },
  {
   "cell_type": "code",
   "execution_count": 5,
   "metadata": {},
   "outputs": [
    {
     "name": "stdout",
     "output_type": "stream",
     "text": [
      "Overwriting config/ws_config.json\n"
     ]
    }
   ],
   "source": [
    "%%writefile config/ws_config.json\n",
    "{\n",
    "    \"subscription_id\": \"e5c3bb0d-3f29-4ec5-a378-50445901fa5a\",\n",
    "    \"resource_group\": \"ODL-machine-learning-110006\",\n",
    "    \"workspace_name\": \"AML-workspace-110006\",\n",
    "    \"tentant_id\": \"f94768c8-8714-4abe-8e2d-37a64b18216a\",\n",
    "    \"service_principal_id\": \"8d42eca0-7f8e-4f7f-abfe-67675946f9b3\",\n",
    "    \"service_principal_password\": \"jged00QTH*ON\"\n",
    "}"
   ]
  },
  {
   "cell_type": "code",
   "execution_count": 7,
   "metadata": {},
   "outputs": [],
   "source": [
    "from azureml.core import Workspace\n",
    "from azureml.core.authentication import ServicePrincipalAuthentication\n",
    "\n",
    "import json\n",
    "config_file = open('config/ws_config.json')\n",
    "cred_dict = json.load(config_file)\n",
    "\n",
    "auth = ServicePrincipalAuthentication(tenant_id = cred_dict['tentant_id'], \n",
    "                                      service_principal_id = cred_dict['service_principal_id'], \n",
    "                                      service_principal_password = cred_dict['service_principal_password'])\n",
    "\n",
    "ws = Workspace.from_config(path=\"./config/ws_config.json\", auth = auth)"
   ]
  },
  {
   "cell_type": "code",
   "execution_count": null,
   "metadata": {},
   "outputs": [],
   "source": [
    "!shutdown -y -h now"
   ]
  }
 ],
 "metadata": {
  "kernelspec": {
   "display_name": "Python 3.6 - AzureML",
   "language": "python",
   "name": "python3-azureml"
  },
  "language_info": {
   "codemirror_mode": {
    "name": "ipython",
    "version": 3
   },
   "file_extension": ".py",
   "mimetype": "text/x-python",
   "name": "python",
   "nbconvert_exporter": "python",
   "pygments_lexer": "ipython3",
   "version": "3.6.8"
  }
 },
 "nbformat": 4,
 "nbformat_minor": 2
}
