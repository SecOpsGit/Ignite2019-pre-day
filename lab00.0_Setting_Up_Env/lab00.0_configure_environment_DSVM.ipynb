{
 "cells": [
  {
   "cell_type": "markdown",
   "metadata": {},
   "source": [
    "Copyright (c) Microsoft Corporation. All rights reserved.\n",
    "\n",
    "Licensed under the MIT License."
   ]
  },
  {
   "cell_type": "markdown",
   "metadata": {},
   "source": [
    "## Install or upgrade Python dependencies"
   ]
  },
  {
   "cell_type": "markdown",
   "metadata": {},
   "source": [
    "**NOTE**:  For the instructions in this section, instead of using an SSH terminal to log into the server, we can simply access a terminal directly from Jupyter by selection **New > Terminal** from the menu.\n",
    "\n",
    "Type `conda env list` to list available Conda environments. You should see an environment called `AzureML`, which is the AzureML Python SDK. By using this environment we won't need to install `AzureML`. But any other packages we use will have to also be installed in this environment. First type `conda activate AzureML` to activate the environment then type the following commands to install the packages we use in this course:\n",
    "\n",
    "```\n",
    "pip install seaborn\n",
    "```"
   ]
  },
  {
   "cell_type": "markdown",
   "metadata": {},
   "source": [
    "If you have followed these steps successfully, you should be able to return to the Juypter notebook and set the Kernel to `Python [conda env:AzureML]` for this lab (go to **Kernel > Change Kernel**). If you do not see the above kernel, then go to **File > Close and Halt** to shut down the notebook and then reopen it and check again."
   ]
  },
  {
   "cell_type": "markdown",
   "metadata": {},
   "source": [
    "## Creating an Azure ML Workspace\n",
    "\n",
    "Before you continue, switch the kernel of this notebook to the conda environment you installed above (e.g. `Python [conda env:amladpm]`)\n",
    "\n",
    "If you already have access to an Azure ML Workspace, you can skip this section.  Otherwise, we will create one under the subscription provided (assuming we have the correct permissions for the given subscription ID).\n",
    "\n",
    "This will fail when:\n",
    "1. You do not have permission to create an Azure ML Workspace in the resource group.\n",
    "2. You are not a subscription owner or contributor and no Azure ML Workspace have ever been created in this subscription.\n",
    "\n",
    "If workspace creation fails for any reason other than already existing, please work with your IT admin to provide you with the appropriate permissions or to provision the required resources.\n",
    "\n",
    "**Note:** The workspace creation can take several minutes.\n",
    "\n",
    "Let's start by checkign which core SDK version number we have, to validate your installation and for debugging purposes:"
   ]
  },
  {
   "cell_type": "code",
   "execution_count": null,
   "metadata": {},
   "outputs": [],
   "source": [
    "import azureml.core\n",
    "\n",
    "print(\"SDK Version:\", azureml.core.VERSION)"
   ]
  },
  {
   "cell_type": "markdown",
   "metadata": {},
   "source": [
    "An AML Workspace is an Azure resource that organizes and coordinates the actions of many other Azure resources to assist in executing and sharing machine learning workflows.  In particular, an AML Workspace coordinates storage, databases, and compute resources providing added functionality for machine learning experimentation, operationalization, and the monitoring of operationalized models."
   ]
  },
  {
   "cell_type": "code",
   "execution_count": null,
   "metadata": {},
   "outputs": [],
   "source": [
    "import os\n",
    "\n",
    "home_dir = os.path.expanduser('~')\n",
    "config_path = os.path.join(home_dir, 'aml_config')\n",
    "\n",
    "os.makedirs(config_path,  exist_ok = True)"
   ]
  },
  {
   "cell_type": "markdown",
   "metadata": {},
   "source": [
    "Here's how we can create a Workspace using the Azure ML SDK. This may take a few seconds to run.\n",
    "\n",
    "Fill out the empty quotes below with your `subscription_id` and `resource_group` from the azure portal. For workspace region, let's use `eastus2`."
   ]
  },
  {
   "cell_type": "code",
   "execution_count": null,
   "metadata": {},
   "outputs": [],
   "source": [
    "from azureml.core import Workspace\n",
    "\n",
    "# if subscription ID is an environment variable, use `subscription_id = os.environ.get(\"SUBSCRIPTION_ID\")`\n",
    "subscription_id = '' # run `!az account show` to get it or go to the Azure portal\n",
    "resource_group = '' # use an existing resource group or create a new one if you can\n",
    "workspace_name = 'predmaintws' # pick a name for your workspace (or keep the one here)\n",
    "workspace_region = 'eastus2' # pick a region for your workspace (should be same as resource group region)\n",
    "\n",
    "# create the workspace (takes several seconds)\n",
    "ws = Workspace.create(name = workspace_name,\n",
    "                      subscription_id = subscription_id,\n",
    "                      resource_group = resource_group, \n",
    "                      location = workspace_region,\n",
    "                      exist_ok = True)"
   ]
  },
  {
   "cell_type": "code",
   "execution_count": null,
   "metadata": {},
   "outputs": [],
   "source": [
    "# print details of workspace configuration\n",
    "ws.get_details()"
   ]
  },
  {
   "cell_type": "code",
   "execution_count": null,
   "metadata": {},
   "outputs": [],
   "source": [
    "# Once we have a workspace, we can create a config file for it using `write_config()`.\n",
    "ws.write_config(path = config_path)"
   ]
  },
  {
   "cell_type": "markdown",
   "metadata": {},
   "source": [
    "Alternatively, we can also follow the instructions [here](https://docs.microsoft.com/en-us/azure/machine-learning/service/how-to-configure-environment) to create an Azure ML Workspace from the Azure portal."
   ]
  },
  {
   "cell_type": "markdown",
   "metadata": {},
   "source": [
    "If we ran the above code successfully, we should have a new file called `~/aml_config/config.json`."
   ]
  },
  {
   "cell_type": "code",
   "execution_count": null,
   "metadata": {},
   "outputs": [],
   "source": [
    "%pycat ~/aml_config/.azureml/config.json"
   ]
  },
  {
   "cell_type": "markdown",
   "metadata": {},
   "source": [
    "## Configuring the local environment"
   ]
  },
  {
   "cell_type": "markdown",
   "metadata": {},
   "source": [
    "From now on, we can then load the workspace from this config file from any notebook in the current directory by simply running `from_config()`."
   ]
  },
  {
   "cell_type": "code",
   "execution_count": null,
   "metadata": {},
   "outputs": [],
   "source": [
    "import os\n",
    "from azureml.core import Workspace\n",
    "\n",
    "import os\n",
    "\n",
    "home_dir = os.path.expanduser('~')\n",
    "config_path = os.path.join(home_dir, 'aml_config')\n",
    "\n",
    "my_workspace = Workspace.from_config(path = config_path)\n",
    "my_workspace.get_details()"
   ]
  },
  {
   "cell_type": "markdown",
   "metadata": {},
   "source": [
    "Now that we have a workspace, to run the remaining Notebooks in the course we create one or more **experiments**. This allows us to track the runs in the workspace. A workspace can have muliple experiments; an experiment must belong to a workspace. To create a experiment, we simply choose a name for it and run `exp = Experiment(workspace=ws, name=experiment_name)` where `ws` points to our workspace."
   ]
  },
  {
   "cell_type": "markdown",
   "metadata": {},
   "source": [
    "# The end"
   ]
  },
  {
   "cell_type": "markdown",
   "metadata": {},
   "source": [
    "## Troubleshooting\n",
    "\n",
    "If you have trouble login into azure from jupyter, try to run the following command in the terminal.\n",
    "\n",
    "~~~~\n",
    "sudo -i az extension remove --name azure-ml-admin-cli # needed to run `az login` from jupyter\n",
    "~~~~\n"
   ]
  },
  {
   "cell_type": "markdown",
   "metadata": {},
   "source": [
    "Copyright (c) Microsoft Corporation. All rights reserved.\n",
    "\n",
    "Licensed under the MIT License."
   ]
  }
 ],
 "metadata": {
  "kernelspec": {
   "display_name": "Python 3",
   "language": "python",
   "name": "python3"
  },
  "language_info": {
   "codemirror_mode": {
    "name": "ipython",
    "version": 3
   },
   "file_extension": ".py",
   "mimetype": "text/x-python",
   "name": "python",
   "nbconvert_exporter": "python",
   "pygments_lexer": "ipython3",
   "version": "3.6.8"
  }
 },
 "nbformat": 4,
 "nbformat_minor": 2
}
