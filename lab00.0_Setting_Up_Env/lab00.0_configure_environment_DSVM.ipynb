{
 "cells": [
  {
   "cell_type": "markdown",
   "metadata": {},
   "source": [
    "Copyright (c) Microsoft Corporation. All rights reserved.\n",
    "\n",
    "Licensed under the MIT License."
   ]
  },
  {
   "cell_type": "markdown",
   "metadata": {},
   "source": [
    "# Preparing the environment for the course"
   ]
  },
  {
   "cell_type": "markdown",
   "metadata": {},
   "source": [
    "In this Notebook, we cover the necessary steps to provision an Ubuntu Data Science VM (DSVM) and install the necessary Python libraries and Jupyter Notebook. \n",
    "\n",
    "Below, we describe how you can:\n",
    "1. Set up Jupyter Notebook access\n",
    "2. Clone this repository\n",
    "3. Install Python Dependencies\n",
    "4. Create your Azure Machine Learning (AML) workspace"
   ]
  },
  {
   "cell_type": "markdown",
   "metadata": {},
   "source": [
    "## Set up Jupyter Notebook access\n",
    "\n",
    "**Note**: You can most likely skip this step if you are in the classroom.\n",
    "\n",
    "Three steps are necessary to create a jupyter notebook server with remote access:\n",
    "1. Configure the Jupyter server for remote access and start the jupyter server\n",
    "2. Open an incoming TCP port in the firewall so you can access the jupyter server\n",
    "3. Start Jupyter server\n",
    "\n",
    "### Configure the Jupyter Server\n",
    "\n",
    "Log into your DSVM, using one of your preferred clients:\n",
    "- SSH terminal (e.g. such as [Putty](http://www.putty.org/)\n",
    "- Remote desktop (e.g [X2Go](http://wiki.x2go.org/doku.php/doc:installation:x2goclient))\n",
    "\n",
    "From the command line run the following commands:\n",
    "\n",
    "~~~~\n",
    "jupyter notebook --generate-config # generate a jupyter config file\n",
    "cd ~/.jupyter\n",
    "rm jupyter_notebook_config.py\n",
    "wget https://sethmottstore.blob.core.windows.net/predmaint/jupyter_notebook_config.py\n",
    "~~~~\n",
    "\n",
    "### Configure firewall\n",
    "\n",
    "From the Azure portal, navigate into your virtual machine, click on the **Networking** tab, then on **Add in-bound security rule** and **Add**. By default, this will open port 8080 that we can use to access the Jupyter server from.\n",
    "\n",
    "### Clone the course repo\n",
    "\n",
    "Run the following command to clone the Github repository for the course into the VM:\n",
    "~~~~\n",
    "cd ~\n",
    "git clone https://github.com/Azure/LearnAI-ADPM.git\n",
    "~~~~\n",
    "\n",
    "### Start Jupyter server\n",
    "\n",
    "Return to the terminal, navigate to the root directory of the cloned repository for this course, and start the Jupyter server by typing the following command:\n",
    "\n",
    "~~~~\n",
    "cd LearnAI-ADPM\n",
    "jupyter notebook\n",
    "~~~~\n",
    "\n",
    "### Connect to your Jupyter Server\n",
    "\n",
    "Then copy the **access token** shown (the string following `&token=` in the provided URL). Find the **VM IP address** (shown on **Overview** tab of `labvm` on the Azure portal). Now, from any machine we can go to the following URL on our browser to access the Jupyter server: \n",
    "\n",
    "`http://<VM_IP_ADDRESS>:8080/?token=<ACCESS_TOKEN>`"
   ]
  },
  {
   "cell_type": "markdown",
   "metadata": {},
   "source": [
    "## Install or upgrade Python dependencies"
   ]
  },
  {
   "cell_type": "markdown",
   "metadata": {},
   "source": [
    "**NOTE**:  For the instructions in this section, instead of using an SSH terminal to log into the server, we can simply access a terminal directly from Jupyter by selection **New > Terminal** from the menu.\n",
    "\n",
    "Install a new Conda environment called `amladpm` using the provided conda environment configuration file `environment.yml` (this file is located in the root directory of this repository).\n",
    "\n",
    "We can execute this cell to see what the configuration file of your conda environment looks like:"
   ]
  },
  {
   "cell_type": "code",
   "execution_count": null,
   "metadata": {},
   "outputs": [],
   "source": [
    "!cat ../environment.yml"
   ]
  },
  {
   "cell_type": "markdown",
   "metadata": {},
   "source": [
    "Navigate to the root directory of this repository, and run the following command to install the python dependencies:\n",
    "\n",
    "~~~~\n",
    "conda env create -f environment.yml\n",
    "~~~~\n",
    "\n",
    "If you have followed these steps successfully, you should be able to use the kernel `Python [conda env:amladpm]` for this lab."
   ]
  },
  {
   "cell_type": "markdown",
   "metadata": {},
   "source": [
    "## Creating an Azure ML Workspace\n",
    "\n",
    "Before you continue, switch the kernel of this notebook to the conda environment you installed above (e.g. `Python [conda env:amladpm]`)\n",
    "\n",
    "If you already have access to an Azure ML Workspace, you can skip this section.  Otherwise, we will create one under the subscription provided (assuming we have the correct permissions for the given subscription ID).\n",
    "\n",
    "This will fail when:\n",
    "1. You do not have permission to create an Azure ML Workspace in the resource group.\n",
    "2. You are not a subscription owner or contributor and no Azure ML Workspace have ever been created in this subscription.\n",
    "\n",
    "If workspace creation fails for any reason other than already existing, please work with your IT admin to provide you with the appropriate permissions or to provision the required resources.\n",
    "\n",
    "**Note:** The workspace creation can take several minutes.\n",
    "\n",
    "Let's start by checkign which core SDK version number we have, to validate your installation and for debugging purposes:"
   ]
  },
  {
   "cell_type": "code",
   "execution_count": null,
   "metadata": {},
   "outputs": [],
   "source": [
    "import azureml.core\n",
    "\n",
    "print(\"SDK Version:\", azureml.core.VERSION)"
   ]
  },
  {
   "cell_type": "markdown",
   "metadata": {},
   "source": [
    "An AML Workspace is an Azure resource that organizes and coordinates the actions of many other Azure resources to assist in executing and sharing machine learning workflows.  In particular, an AML Workspace coordinates storage, databases, and compute resources providing added functionality for machine learning experimentation, operationalization, and the monitoring of operationalized models."
   ]
  },
  {
   "cell_type": "code",
   "execution_count": null,
   "metadata": {},
   "outputs": [],
   "source": [
    "import os\n",
    "\n",
    "home_dir = os.path.expanduser('~')\n",
    "config_path = os.path.join(home_dir, 'aml_config')\n",
    "os.makedirs(config_path,  exist_ok = True)"
   ]
  },
  {
   "cell_type": "markdown",
   "metadata": {},
   "source": [
    "Here's how we can create a Workspace using the Azure ML SDK. This may take a few seconds to run.\n",
    "\n",
    "Fill out the empty quotes below with your `subscription_id` and `resource_group` from the azure portal.\n",
    "\n",
    "For workspace region, we prefer you use `eastus2`. Other supported regions include `westcentralus`, `southeastasia`, `westeurope`, `australiaeast`, although their support might lag behind.\n",
    "\n",
    "Fill in the entries in the following cell:"
   ]
  },
  {
   "cell_type": "code",
   "execution_count": null,
   "metadata": {},
   "outputs": [],
   "source": [
    "from azureml.core import Workspace\n",
    "\n",
    "# if subscription ID is an environment variable, use `subscription_id = os.environ.get(\"SUBSCRIPTION_ID\")`\n",
    "subscription_id = '' # run `!az account show` to get it or go to the Azure portal\n",
    "resource_group = '' # use an existing resource group or create a new one if you can\n",
    "workspace_name = 'predmaintws' # pick a name for your workspace (or keep the one here)\n",
    "workspace_region = 'eastus2' # pick a region for your workspace (should be same as resource group region)\n",
    "\n",
    "# create the workspace (takes several seconds)\n",
    "ws = Workspace.create(name = workspace_name,\n",
    "                      subscription_id = subscription_id,\n",
    "                      resource_group = resource_group, \n",
    "                      location = workspace_region,\n",
    "                      exist_ok = True)\n",
    "\n",
    "# print details of workspace configuration\n",
    "ws.get_details()\n",
    "\n",
    "# Once we have a workspace, we can create a config file for it using `write_config()`.\n",
    "ws.write_config(path = config_path)"
   ]
  },
  {
   "cell_type": "markdown",
   "metadata": {},
   "source": [
    "Alternatively, we can also follow the instructions [here](https://docs.microsoft.com/en-us/azure/machine-learning/service/how-to-configure-environment) to create an Azure ML Workspace from the Azure portal."
   ]
  },
  {
   "cell_type": "markdown",
   "metadata": {},
   "source": [
    "If we ran the above code successfully, we should have a new file called `~/aml_config/config.json`."
   ]
  },
  {
   "cell_type": "code",
   "execution_count": null,
   "metadata": {},
   "outputs": [],
   "source": [
    "!cat ~/aml_config/config.json"
   ]
  },
  {
   "cell_type": "markdown",
   "metadata": {},
   "source": [
    "## Configuring the local environment"
   ]
  },
  {
   "cell_type": "markdown",
   "metadata": {},
   "source": [
    "From now on, we can then load the workspace from this config file from any notebook in the current directory by simply running `from_config()`."
   ]
  },
  {
   "cell_type": "code",
   "execution_count": null,
   "metadata": {},
   "outputs": [],
   "source": [
    "import os\n",
    "from azureml.core import Workspace\n",
    "\n",
    "home_dir = os.path.expanduser('~')\n",
    "config_path = os.path.join(home_dir, 'aml_config')\n",
    "\n",
    "my_workspace = Workspace.from_config(path=os.path.join(config_path, 'config.json'))\n",
    "my_workspace.get_details()"
   ]
  },
  {
   "cell_type": "markdown",
   "metadata": {},
   "source": [
    "Now that we have a workspace, to run the remaining Notebooks in the course we create one or more **experiments**. This allows us to track the runs in the workspace. A workspace can have muliple experiments; an experiment must belong to a workspace. To create a experiment, we simply choose a name for it and run `exp = Experiment(workspace=ws, name=experiment_name)` where `ws` points to our workspace."
   ]
  },
  {
   "cell_type": "markdown",
   "metadata": {},
   "source": [
    "# The end"
   ]
  },
  {
   "cell_type": "markdown",
   "metadata": {},
   "source": [
    "## Troubleshooting\n",
    "\n",
    "If you have trouble login into azure from jupyter, try to run the following command in the terminal.\n",
    "\n",
    "~~~~\n",
    "sudo -i az extension remove --name azure-ml-admin-cli # needed to run `az login` from jupyter\n",
    "~~~~\n"
   ]
  },
  {
   "cell_type": "markdown",
   "metadata": {},
   "source": [
    "Copyright (c) Microsoft Corporation. All rights reserved.\n",
    "\n",
    "Licensed under the MIT License."
   ]
  }
 ],
 "metadata": {
  "kernelspec": {
   "display_name": "Python 3",
   "language": "python",
   "name": "python3"
  },
  "language_info": {
   "codemirror_mode": {
    "name": "ipython",
    "version": 3
   },
   "file_extension": ".py",
   "mimetype": "text/x-python",
   "name": "python",
   "nbconvert_exporter": "python",
   "pygments_lexer": "ipython3",
   "version": "3.6.4"
  }
 },
 "nbformat": 4,
 "nbformat_minor": 2
}
