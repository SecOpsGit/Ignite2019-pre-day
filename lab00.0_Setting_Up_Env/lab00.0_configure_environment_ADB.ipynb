{
 "cells": [
  {
   "cell_type": "markdown",
   "metadata": {},
   "source": [
    "# Configure your Azure Databricks (ADB) Environment\n",
    "\n",
    "The configuration of your ADB environment involves several steps:\n",
    "1. Install the python modules needed for this course\n",
    "2. Install the solutions to hands-on labs (optional)\n",
    "3. Create your Azure Machine Learning (ML) Workspace\n",
    "\n",
    "## Installing Python modules\n",
    "\n",
    ">  You can skip this step if we provided an ADB cluster for you, because these modules will already be installed. \n",
    "\n",
    "Begin by installing the following libraries, in the presented order.\n",
    "\n",
    "1. pyopenssl==16.0.0\n",
    "2. azureml-train[databricks]==0.1.74\n",
    "3. rstl\n",
    "4. pyculiarity\n",
    "\n",
    "## Install solutions to hands-on labs\n",
    "\n",
    "> If you are sure (how could you?) that you will be able to solve all the hands-on labs, you can skip this step.\n",
    "\n",
    "We have created a python package that contains all the solutions to the hands-on labs of this course. \n",
    "\n",
    "You can find a Python Egg file (adpm_solutions-0.1-py3.5.egg) for this package in the `dist` folder of the github repository for this course. \n",
    "\n",
    "## Create Azure ML Workspace"
   ]
  },
  {
   "cell_type": "code",
   "execution_count": null,
   "metadata": {},
   "outputs": [],
   "source": [
    "import azureml.core\n",
    "\n",
    "# Check core SDK version number - based on build number of preview/master.\n",
    "print(\"SDK version:\", azureml.core.VERSION)"
   ]
  },
  {
   "cell_type": "markdown",
   "metadata": {},
   "source": [
    "Before you run the following cell, you need to fill in you `subscription_id` and your `resource_group`."
   ]
  },
  {
   "cell_type": "code",
   "execution_count": null,
   "metadata": {},
   "outputs": [],
   "source": [
    "subscription_id = \"\"\n",
    "resource_group = \"\"\n",
    "workspace_name = \"myADBworkspace\"\n",
    "workspace_region = \"\""
   ]
  },
  {
   "cell_type": "markdown",
   "metadata": {},
   "source": [
    "Running the following cell will do two things:\n",
    "1. Perform interactive authentication with Azure\n",
    "2. Create a workspace\n",
    "\n",
    "> **Important:** Make sure to pay attention to the output of the cell, because it will give you instructions about how to perform interactive authentication.  After you completed authentication, creating the workspace may take up to a minute."
   ]
  },
  {
   "cell_type": "code",
   "execution_count": null,
   "metadata": {},
   "outputs": [],
   "source": [
    "# import the Workspace class and check the azureml SDK version\n",
    "# exist_ok checks if workspace exists or not.\n",
    "\n",
    "from azureml.core import Workspace\n",
    "\n",
    "ws = Workspace.create(name = workspace_name,\n",
    "                      subscription_id = subscription_id,\n",
    "                      resource_group = resource_group, \n",
    "                      location = workspace_region,\n",
    "                      exist_ok=True)\n",
    "\n",
    "ws.get_details()"
   ]
  },
  {
   "cell_type": "markdown",
   "metadata": {},
   "source": [
    "Confirm that the workspace has been created successfully, and if so, we write the configuration to json file (`config.json`) for later use."
   ]
  },
  {
   "cell_type": "code",
   "execution_count": null,
   "metadata": {},
   "outputs": [],
   "source": [
    "ws = Workspace(workspace_name = workspace_name,\n",
    "               subscription_id = subscription_id,\n",
    "               resource_group = resource_group)\n",
    "\n",
    "config_path='/dbfs/tmp/'\n",
    "\n",
    "# persist the subscription id, resource group name, and workspace name in aml_config/config.json.\n",
    "ws.write_config(path=config_path)"
   ]
  },
  {
   "cell_type": "markdown",
   "metadata": {},
   "source": [
    "Confirm that it is possible to create the workspacce from the `config.json` file we created above."
   ]
  },
  {
   "cell_type": "code",
   "execution_count": null,
   "metadata": {},
   "outputs": [],
   "source": [
    "from azureml.core.workspace import Workspace\n",
    "import os\n",
    "\n",
    "ws = Workspace.from_config(path=os.path.join(config_path, 'aml_config','config.json'))\n",
    "\n",
    "print('Workspace name: ' + ws.name, \n",
    "      'Azure region: ' + ws.location, \n",
    "      'Subscription id: ' + ws.subscription_id, \n",
    "      'Resource group: ' + ws.resource_group, sep = '\\n')"
   ]
  }
 ],
 "metadata": {
  "kernelspec": {
   "display_name": "Python [default]",
   "language": "python",
   "name": "python3"
  },
  "language_info": {
   "codemirror_mode": {
    "name": "ipython",
    "version": 3
   },
   "file_extension": ".py",
   "mimetype": "text/x-python",
   "name": "python",
   "nbconvert_exporter": "python",
   "pygments_lexer": "ipython3",
   "version": "3.5.5"
  },
  "name": "configure_environment_ADB",
  "notebookId": 1951564739234054
 },
 "nbformat": 4,
 "nbformat_minor": 1
}
