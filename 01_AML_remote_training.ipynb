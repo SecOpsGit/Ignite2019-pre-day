{
 "cells": [
  {
   "cell_type": "markdown",
   "metadata": {},
   "source": [
    "## House Prices Prediction - Remote model training using Azure ML compute and Hyperdrive\n",
    "\n",
    "### In this tutorial we will perform the same basic data preparation and model training steps as we did before, but know with the help of Azure ML service for remote model training and model hyperparameter search on Azure ML compute."
   ]
  },
  {
   "cell_type": "markdown",
   "metadata": {},
   "source": [
    "#### We begin by importing the necessary packages and setting some notebook options."
   ]
  },
  {
   "cell_type": "code",
   "execution_count": 1,
   "metadata": {},
   "outputs": [],
   "source": [
    "import numpy as np\n",
    "import pandas as pd\n",
    "from sklearn.model_selection import train_test_split\n",
    "from sklearn.model_selection import GridSearchCV\n",
    "from sklearn.ensemble import GradientBoostingRegressor\n",
    "from sklearn.metrics import r2_score\n",
    "from sklearn.metrics import mean_absolute_error\n",
    "from sklearn.metrics import make_scorer\n",
    "from sklearn.externals import joblib\n",
    "import matplotlib.pyplot as plt\n",
    "import seaborn as sns\n",
    "import warnings\n",
    "import os, time\n",
    "\n",
    "from azureml.core import Experiment\n",
    "from azureml.core import Workspace, Run\n",
    "from azureml.core.compute import ComputeTarget, AmlCompute\n",
    "from azureml.core.compute_target import ComputeTargetException\n",
    "from azureml.core.model import Model\n",
    "\n",
    "from azureml.train.sklearn import SKLearn\n",
    "from azureml.train.hyperdrive import GridParameterSampling\n",
    "from azureml.train.hyperdrive import HyperDriveConfig\n",
    "from azureml.train.hyperdrive import PrimaryMetricGoal\n",
    "from azureml.train.hyperdrive.parameter_expressions import choice\n",
    "\n",
    "from azureml.widgets import RunDetails\n",
    "\n",
    "warnings.filterwarnings('ignore')\n",
    "\n",
    "%matplotlib inline\n",
    "\n",
    "pd.options.display.max_rows = None\n",
    "pd.options.display.max_columns = None"
   ]
  },
  {
   "cell_type": "markdown",
   "metadata": {},
   "source": [
    "#### Before running the next cell, we need to create an Azure ML service Workspace. Follow the instructions [here](https://docs.microsoft.com/en-us/azure/machine-learning/service/how-to-manage-workspace) and then download the config.json file. Then, upload that file to your config folder.\n",
    "#### Now we instantiate a [Workspace](https://docs.microsoft.com/en-us/azure/machine-learning/service/concept-azure-machine-learning-architecture#workspaces) object, using the information from the configuration file that we uploaded previously."
   ]
  },
  {
   "cell_type": "code",
   "execution_count": 2,
   "metadata": {},
   "outputs": [],
   "source": [
    "ws = Workspace.from_config(path=\"./config/ws_config.json\")"
   ]
  },
  {
   "cell_type": "markdown",
   "metadata": {},
   "source": [
    "#### Next, we instantiate an [Experiment](https://docs.microsoft.com/en-us/azure/machine-learning/service/concept-azure-machine-learning-architecture#experiments) object, which will later be used to submit our model training execution."
   ]
  },
  {
   "cell_type": "code",
   "execution_count": 3,
   "metadata": {},
   "outputs": [],
   "source": [
    "exp = Experiment(workspace=ws, name=\"house_prices_hyperdrive\")"
   ]
  },
  {
   "cell_type": "markdown",
   "metadata": {},
   "source": [
    "#### As we are going to run our model training in a remote environment, we need to make the training data available to an external storage accessible to that environment . Here we are going to upload the training data to the [Default Datastore](https://docs.microsoft.com/en-us/azure/machine-learning/service/concept-azure-machine-learning-architecture#datasets-and-datastores), which is available from our Workspace."
   ]
  },
  {
   "cell_type": "code",
   "execution_count": 4,
   "metadata": {},
   "outputs": [],
   "source": [
    "ds = ws.get_default_datastore()"
   ]
  },
  {
   "cell_type": "code",
   "execution_count": 5,
   "metadata": {
    "scrolled": true
   },
   "outputs": [
    {
     "name": "stdout",
     "output_type": "stream",
     "text": [
      "Uploading an estimated of 1 files\n",
      "Uploading ./data/ames.csv\n",
      "Uploaded ./data/ames.csv, 1 files out of an estimated total of 1\n",
      "Uploaded 1 files\n"
     ]
    },
    {
     "data": {
      "text/plain": [
       "$AZUREML_DATAREFERENCE_f6e081d43bd44a809f011068460657f7"
      ]
     },
     "execution_count": 5,
     "metadata": {},
     "output_type": "execute_result"
    }
   ],
   "source": [
    "ds.upload(src_dir=\"./data\", target_path=\"data\", overwrite=True, show_progress=True)"
   ]
  },
  {
   "cell_type": "markdown",
   "metadata": {},
   "source": [
    "#### The next step is to create our remote [Compute Target](https://docs.microsoft.com/en-us/azure/machine-learning/service/concept-azure-machine-learning-architecture#compute-targets).\n",
    "#### Here we create one of the type [Azure Machine Learning Compute](https://docs.microsoft.com/en-us/azure/machine-learning/service/how-to-set-up-training-targets#amlcompute). Once created, this resource is persisted and accessible by its name in subsequent calls."
   ]
  },
  {
   "cell_type": "code",
   "execution_count": 6,
   "metadata": {},
   "outputs": [
    {
     "name": "stdout",
     "output_type": "stream",
     "text": [
      "Found existing compute target\n"
     ]
    }
   ],
   "source": [
    "cluster_name = \"compute01\"\n",
    "\n",
    "try:\n",
    "    compute_target = ComputeTarget(workspace=ws, name=cluster_name)\n",
    "    print(\"Found existing compute target\")\n",
    "except ComputeTargetException:\n",
    "    print(\"Creating a new compute target...\")\n",
    "    compute_config = AmlCompute.provisioning_configuration(vm_size=\"STANDARD_DS2_V2\", \n",
    "                                                           max_nodes=12)\n",
    "\n",
    "    compute_target = ComputeTarget.create(ws, cluster_name, compute_config)\n",
    "\n",
    "    compute_target.wait_for_completion(show_output=True, min_node_count=None, timeout_in_minutes=20)"
   ]
  },
  {
   "cell_type": "markdown",
   "metadata": {},
   "source": [
    "#### Now we create an [Estimator](https://docs.microsoft.com/en-us/azure/machine-learning/service/concept-azure-machine-learning-architecture#estimators) object. Estimator facilitate the creation of run configurations, by defining [run scripts](https://docs.microsoft.com/en-us/azure/machine-learning/service/concept-azure-machine-learning-architecture#training-scripts), its parameters and the target run environment.\n",
    "#### Azure ML service provides a generic Estimator, as well as specialized ones that facilitate the usage of several popular python ML packages. Here we use the [SKLearn](https://docs.microsoft.com/en-us/python/api/azureml-train-core/azureml.train.estimator?view=azure-ml-py) Estimator, as we are going to train Scikit-Learn based models."
   ]
  },
  {
   "cell_type": "code",
   "execution_count": 7,
   "metadata": {},
   "outputs": [],
   "source": [
    "script_folder = \"./scripts\"\n",
    "\n",
    "script_params = {\n",
    "    \"--data-folder\": ds.as_mount()\n",
    "}\n",
    "\n",
    "estimator = SKLearn(source_directory=script_folder, \n",
    "                    compute_target=compute_target,\n",
    "                    entry_script=\"train_model.py\",\n",
    "                    script_params=script_params\n",
    "                   )"
   ]
  },
  {
   "cell_type": "markdown",
   "metadata": {},
   "source": [
    "#### We are going to submit our Estimator for remote run on Azure ML Compute. Instead of doing that directly, we will wrap it using the [HyperDrive](https://docs.microsoft.com/en-us/azure/machine-learning/service/how-to-tune-hyperparameters) functionality for automated model hyperparameter search.\n",
    "\n",
    "#### The first step is to define how to sample the hyperparameter space. Azure ML service provides several strategies already built in. Here we will use standard [Grid Sampling](https://docs.microsoft.com/en-us/azure/machine-learning/service/how-to-tune-hyperparameters#sampling-the-hyperparameter-space)."
   ]
  },
  {
   "cell_type": "code",
   "execution_count": 8,
   "metadata": {},
   "outputs": [],
   "source": [
    "param_sampling = GridParameterSampling({\n",
    "    \"n-estimators\": choice(500, 750, 1000),\n",
    "    \"max-depth\": choice(4, 6),\n",
    "    \"min-samples-split\": choice(2, 4),\n",
    "    \"learning-rate\": choice(0.01, 0.001)\n",
    "})"
   ]
  },
  {
   "cell_type": "markdown",
   "metadata": {},
   "source": [
    "#### After defining the Estimator and grid sampling strategy, we can pass them to the [Hyper Drive configuration](https://docs.microsoft.com/en-us/python/api/azureml-train-core/azureml.train.hyperdrive.hyperdriveconfig?view=azure-ml-py) object. There are several options to configure here, such as the [termination policy](https://docs.microsoft.com/en-us/azure/machine-learning/service/how-to-tune-hyperparameters#specify-early-termination-policy), [resources](https://docs.microsoft.com/en-us/azure/machine-learning/service/how-to-tune-hyperparameters#allocate-resources) to allocate the job on, and the [primary metric](https://docs.microsoft.com/en-us/azure/machine-learning/service/how-to-tune-hyperparameters#specify-primary-metric) to be optimized."
   ]
  },
  {
   "cell_type": "code",
   "execution_count": 9,
   "metadata": {},
   "outputs": [],
   "source": [
    "hyperdrive_run_config = HyperDriveConfig(estimator=estimator,\n",
    "                                         hyperparameter_sampling=param_sampling,\n",
    "                                         policy=None,\n",
    "                                         primary_metric_name=\"test_MAE\",\n",
    "                                         primary_metric_goal=PrimaryMetricGoal.MINIMIZE,\n",
    "                                         max_total_runs=100,\n",
    "                                         max_concurrent_runs=24)"
   ]
  },
  {
   "cell_type": "markdown",
   "metadata": {},
   "source": [
    "#### The remaining step is to submit the Experiment defined before, passing the configuration fot the hyperparameter search."
   ]
  },
  {
   "cell_type": "code",
   "execution_count": 10,
   "metadata": {},
   "outputs": [],
   "source": [
    "hyperdrive_run = exp.submit(hyperdrive_run_config)"
   ]
  },
  {
   "cell_type": "markdown",
   "metadata": {},
   "source": [
    "#### We can monitor the execution through a Jupyter [graphical widget](https://docs.microsoft.com/en-us/azure/machine-learning/service/how-to-tune-hyperparameters#visualize-experiment), available through the RunDetails class."
   ]
  },
  {
   "cell_type": "code",
   "execution_count": 15,
   "metadata": {
    "scrolled": true
   },
   "outputs": [
    {
     "data": {
      "application/vnd.jupyter.widget-view+json": {
       "model_id": "e1ffbe4b7a2c4d7388ba9c868d3a3933",
       "version_major": 2,
       "version_minor": 0
      },
      "text/plain": [
       "_HyperDriveWidget(widget_settings={'childWidgetDisplay': 'popup', 'send_telemetry': False, 'log_level': 'INFO'…"
      ]
     },
     "metadata": {},
     "output_type": "display_data"
    }
   ],
   "source": [
    "RunDetails(hyperdrive_run).show()"
   ]
  },
  {
   "cell_type": "markdown",
   "metadata": {},
   "source": [
    "#### After all executions generated by the hyperparameter search finish, we can inspect them and print the hyperparameters and correspondig model performance metrics in a table.\n",
    "#### Here this table is ordered by the best model according to the Mean Absolute Error computed for the test dataset."
   ]
  },
  {
   "cell_type": "code",
   "execution_count": 16,
   "metadata": {
    "scrolled": true
   },
   "outputs": [
    {
     "data": {
      "text/html": [
       "<div>\n",
       "<style scoped>\n",
       "    .dataframe tbody tr th:only-of-type {\n",
       "        vertical-align: middle;\n",
       "    }\n",
       "\n",
       "    .dataframe tbody tr th {\n",
       "        vertical-align: top;\n",
       "    }\n",
       "\n",
       "    .dataframe thead th {\n",
       "        text-align: right;\n",
       "    }\n",
       "</style>\n",
       "<table border=\"1\" class=\"dataframe\">\n",
       "  <thead>\n",
       "    <tr style=\"text-align: right;\">\n",
       "      <th></th>\n",
       "      <th>learning-rate</th>\n",
       "      <th>max-depth</th>\n",
       "      <th>min-samples-split</th>\n",
       "      <th>n-estimators</th>\n",
       "      <th>test_MAE</th>\n",
       "      <th>test_R2</th>\n",
       "      <th>train_MAE</th>\n",
       "      <th>train_R2</th>\n",
       "      <th>val_MAE</th>\n",
       "      <th>val_R2E</th>\n",
       "    </tr>\n",
       "  </thead>\n",
       "  <tbody>\n",
       "    <tr>\n",
       "      <th>11</th>\n",
       "      <td>0.01</td>\n",
       "      <td>4</td>\n",
       "      <td>4</td>\n",
       "      <td>1000</td>\n",
       "      <td>14370.2</td>\n",
       "      <td>0.903886</td>\n",
       "      <td>7949.93</td>\n",
       "      <td>0.983512</td>\n",
       "      <td>14766.1</td>\n",
       "      <td>0.900702</td>\n",
       "    </tr>\n",
       "    <tr>\n",
       "      <th>8</th>\n",
       "      <td>0.01</td>\n",
       "      <td>4</td>\n",
       "      <td>2</td>\n",
       "      <td>1000</td>\n",
       "      <td>14396.6</td>\n",
       "      <td>0.904527</td>\n",
       "      <td>7960.03</td>\n",
       "      <td>0.98361</td>\n",
       "      <td>14824.6</td>\n",
       "      <td>0.899076</td>\n",
       "    </tr>\n",
       "    <tr>\n",
       "      <th>0</th>\n",
       "      <td>0.01</td>\n",
       "      <td>4</td>\n",
       "      <td>4</td>\n",
       "      <td>750</td>\n",
       "      <td>14483.2</td>\n",
       "      <td>0.90454</td>\n",
       "      <td>8700.07</td>\n",
       "      <td>0.979903</td>\n",
       "      <td>15007.2</td>\n",
       "      <td>0.898939</td>\n",
       "    </tr>\n",
       "    <tr>\n",
       "      <th>3</th>\n",
       "      <td>0.01</td>\n",
       "      <td>4</td>\n",
       "      <td>2</td>\n",
       "      <td>750</td>\n",
       "      <td>14517.7</td>\n",
       "      <td>0.903964</td>\n",
       "      <td>8700.21</td>\n",
       "      <td>0.98003</td>\n",
       "      <td>15014.4</td>\n",
       "      <td>0.898548</td>\n",
       "    </tr>\n",
       "    <tr>\n",
       "      <th>21</th>\n",
       "      <td>0.01</td>\n",
       "      <td>4</td>\n",
       "      <td>4</td>\n",
       "      <td>500</td>\n",
       "      <td>14837.5</td>\n",
       "      <td>0.902211</td>\n",
       "      <td>9971.84</td>\n",
       "      <td>0.972792</td>\n",
       "      <td>15416.3</td>\n",
       "      <td>0.895565</td>\n",
       "    </tr>\n",
       "    <tr>\n",
       "      <th>23</th>\n",
       "      <td>0.01</td>\n",
       "      <td>4</td>\n",
       "      <td>2</td>\n",
       "      <td>500</td>\n",
       "      <td>14840.4</td>\n",
       "      <td>0.901704</td>\n",
       "      <td>9973.57</td>\n",
       "      <td>0.9729</td>\n",
       "      <td>15430.6</td>\n",
       "      <td>0.89587</td>\n",
       "    </tr>\n",
       "    <tr>\n",
       "      <th>4</th>\n",
       "      <td>0.01</td>\n",
       "      <td>6</td>\n",
       "      <td>4</td>\n",
       "      <td>1000</td>\n",
       "      <td>15222.8</td>\n",
       "      <td>0.882993</td>\n",
       "      <td>3719.9</td>\n",
       "      <td>0.9966</td>\n",
       "      <td>15129.4</td>\n",
       "      <td>0.896742</td>\n",
       "    </tr>\n",
       "    <tr>\n",
       "      <th>18</th>\n",
       "      <td>0.01</td>\n",
       "      <td>6</td>\n",
       "      <td>4</td>\n",
       "      <td>750</td>\n",
       "      <td>15260.6</td>\n",
       "      <td>0.886841</td>\n",
       "      <td>4328.41</td>\n",
       "      <td>0.995471</td>\n",
       "      <td>15248.5</td>\n",
       "      <td>0.895221</td>\n",
       "    </tr>\n",
       "    <tr>\n",
       "      <th>6</th>\n",
       "      <td>0.01</td>\n",
       "      <td>6</td>\n",
       "      <td>2</td>\n",
       "      <td>1000</td>\n",
       "      <td>15263.7</td>\n",
       "      <td>0.883208</td>\n",
       "      <td>3684.44</td>\n",
       "      <td>0.99669</td>\n",
       "      <td>15180.7</td>\n",
       "      <td>0.894688</td>\n",
       "    </tr>\n",
       "    <tr>\n",
       "      <th>16</th>\n",
       "      <td>0.01</td>\n",
       "      <td>6</td>\n",
       "      <td>2</td>\n",
       "      <td>750</td>\n",
       "      <td>15318.2</td>\n",
       "      <td>0.880839</td>\n",
       "      <td>4282.11</td>\n",
       "      <td>0.995602</td>\n",
       "      <td>15267.3</td>\n",
       "      <td>0.894395</td>\n",
       "    </tr>\n",
       "    <tr>\n",
       "      <th>22</th>\n",
       "      <td>0.01</td>\n",
       "      <td>6</td>\n",
       "      <td>2</td>\n",
       "      <td>500</td>\n",
       "      <td>15425.6</td>\n",
       "      <td>0.881911</td>\n",
       "      <td>5428.56</td>\n",
       "      <td>0.993051</td>\n",
       "      <td>15533.5</td>\n",
       "      <td>0.891428</td>\n",
       "    </tr>\n",
       "    <tr>\n",
       "      <th>1</th>\n",
       "      <td>0.01</td>\n",
       "      <td>6</td>\n",
       "      <td>4</td>\n",
       "      <td>500</td>\n",
       "      <td>15434.4</td>\n",
       "      <td>0.883279</td>\n",
       "      <td>5446.73</td>\n",
       "      <td>0.992962</td>\n",
       "      <td>15528.4</td>\n",
       "      <td>0.892634</td>\n",
       "    </tr>\n",
       "    <tr>\n",
       "      <th>20</th>\n",
       "      <td>0.001</td>\n",
       "      <td>6</td>\n",
       "      <td>4</td>\n",
       "      <td>1000</td>\n",
       "      <td>27216.6</td>\n",
       "      <td>0.744533</td>\n",
       "      <td>25197</td>\n",
       "      <td>0.821454</td>\n",
       "      <td>27858.7</td>\n",
       "      <td>0.738535</td>\n",
       "    </tr>\n",
       "    <tr>\n",
       "      <th>7</th>\n",
       "      <td>0.001</td>\n",
       "      <td>6</td>\n",
       "      <td>2</td>\n",
       "      <td>1000</td>\n",
       "      <td>27222.4</td>\n",
       "      <td>0.745354</td>\n",
       "      <td>25186.3</td>\n",
       "      <td>0.821848</td>\n",
       "      <td>27882.3</td>\n",
       "      <td>0.737314</td>\n",
       "    </tr>\n",
       "    <tr>\n",
       "      <th>13</th>\n",
       "      <td>0.001</td>\n",
       "      <td>4</td>\n",
       "      <td>4</td>\n",
       "      <td>1000</td>\n",
       "      <td>28385</td>\n",
       "      <td>0.728772</td>\n",
       "      <td>28172.4</td>\n",
       "      <td>0.764025</td>\n",
       "      <td>29611.3</td>\n",
       "      <td>0.714751</td>\n",
       "    </tr>\n",
       "    <tr>\n",
       "      <th>9</th>\n",
       "      <td>0.001</td>\n",
       "      <td>4</td>\n",
       "      <td>2</td>\n",
       "      <td>1000</td>\n",
       "      <td>28386.1</td>\n",
       "      <td>0.728721</td>\n",
       "      <td>28170.9</td>\n",
       "      <td>0.764164</td>\n",
       "      <td>29608.7</td>\n",
       "      <td>0.715238</td>\n",
       "    </tr>\n",
       "    <tr>\n",
       "      <th>15</th>\n",
       "      <td>0.001</td>\n",
       "      <td>6</td>\n",
       "      <td>2</td>\n",
       "      <td>750</td>\n",
       "      <td>31772.6</td>\n",
       "      <td>0.668575</td>\n",
       "      <td>30789.5</td>\n",
       "      <td>0.731941</td>\n",
       "      <td>32749.7</td>\n",
       "      <td>0.658306</td>\n",
       "    </tr>\n",
       "    <tr>\n",
       "      <th>12</th>\n",
       "      <td>0.001</td>\n",
       "      <td>6</td>\n",
       "      <td>4</td>\n",
       "      <td>750</td>\n",
       "      <td>31793.6</td>\n",
       "      <td>0.666484</td>\n",
       "      <td>30800.2</td>\n",
       "      <td>0.731555</td>\n",
       "      <td>32730.2</td>\n",
       "      <td>0.659476</td>\n",
       "    </tr>\n",
       "    <tr>\n",
       "      <th>19</th>\n",
       "      <td>0.001</td>\n",
       "      <td>4</td>\n",
       "      <td>4</td>\n",
       "      <td>750</td>\n",
       "      <td>32971.4</td>\n",
       "      <td>0.64667</td>\n",
       "      <td>33322.8</td>\n",
       "      <td>0.674587</td>\n",
       "      <td>34390.1</td>\n",
       "      <td>0.631497</td>\n",
       "    </tr>\n",
       "    <tr>\n",
       "      <th>2</th>\n",
       "      <td>0.001</td>\n",
       "      <td>4</td>\n",
       "      <td>2</td>\n",
       "      <td>750</td>\n",
       "      <td>32972.7</td>\n",
       "      <td>0.646658</td>\n",
       "      <td>33323.1</td>\n",
       "      <td>0.674694</td>\n",
       "      <td>34390.1</td>\n",
       "      <td>0.63185</td>\n",
       "    </tr>\n",
       "    <tr>\n",
       "      <th>14</th>\n",
       "      <td>0.001</td>\n",
       "      <td>6</td>\n",
       "      <td>2</td>\n",
       "      <td>500</td>\n",
       "      <td>37831.7</td>\n",
       "      <td>0.546049</td>\n",
       "      <td>37998.2</td>\n",
       "      <td>0.589608</td>\n",
       "      <td>39234.2</td>\n",
       "      <td>0.532242</td>\n",
       "    </tr>\n",
       "    <tr>\n",
       "      <th>5</th>\n",
       "      <td>0.001</td>\n",
       "      <td>6</td>\n",
       "      <td>4</td>\n",
       "      <td>500</td>\n",
       "      <td>37836.2</td>\n",
       "      <td>0.544759</td>\n",
       "      <td>38008.5</td>\n",
       "      <td>0.589287</td>\n",
       "      <td>39217.3</td>\n",
       "      <td>0.533044</td>\n",
       "    </tr>\n",
       "    <tr>\n",
       "      <th>10</th>\n",
       "      <td>0.001</td>\n",
       "      <td>4</td>\n",
       "      <td>4</td>\n",
       "      <td>500</td>\n",
       "      <td>38946.6</td>\n",
       "      <td>0.520792</td>\n",
       "      <td>39905.7</td>\n",
       "      <td>0.538969</td>\n",
       "      <td>40588.2</td>\n",
       "      <td>0.504207</td>\n",
       "    </tr>\n",
       "    <tr>\n",
       "      <th>17</th>\n",
       "      <td>0.001</td>\n",
       "      <td>4</td>\n",
       "      <td>2</td>\n",
       "      <td>500</td>\n",
       "      <td>38947.2</td>\n",
       "      <td>0.520736</td>\n",
       "      <td>39905.6</td>\n",
       "      <td>0.53903</td>\n",
       "      <td>40586.6</td>\n",
       "      <td>0.504518</td>\n",
       "    </tr>\n",
       "  </tbody>\n",
       "</table>\n",
       "</div>"
      ],
      "text/plain": [
       "   learning-rate max-depth min-samples-split n-estimators test_MAE   test_R2  \\\n",
       "11          0.01         4                 4         1000  14370.2  0.903886   \n",
       "8           0.01         4                 2         1000  14396.6  0.904527   \n",
       "0           0.01         4                 4          750  14483.2   0.90454   \n",
       "3           0.01         4                 2          750  14517.7  0.903964   \n",
       "21          0.01         4                 4          500  14837.5  0.902211   \n",
       "23          0.01         4                 2          500  14840.4  0.901704   \n",
       "4           0.01         6                 4         1000  15222.8  0.882993   \n",
       "18          0.01         6                 4          750  15260.6  0.886841   \n",
       "6           0.01         6                 2         1000  15263.7  0.883208   \n",
       "16          0.01         6                 2          750  15318.2  0.880839   \n",
       "22          0.01         6                 2          500  15425.6  0.881911   \n",
       "1           0.01         6                 4          500  15434.4  0.883279   \n",
       "20         0.001         6                 4         1000  27216.6  0.744533   \n",
       "7          0.001         6                 2         1000  27222.4  0.745354   \n",
       "13         0.001         4                 4         1000    28385  0.728772   \n",
       "9          0.001         4                 2         1000  28386.1  0.728721   \n",
       "15         0.001         6                 2          750  31772.6  0.668575   \n",
       "12         0.001         6                 4          750  31793.6  0.666484   \n",
       "19         0.001         4                 4          750  32971.4   0.64667   \n",
       "2          0.001         4                 2          750  32972.7  0.646658   \n",
       "14         0.001         6                 2          500  37831.7  0.546049   \n",
       "5          0.001         6                 4          500  37836.2  0.544759   \n",
       "10         0.001         4                 4          500  38946.6  0.520792   \n",
       "17         0.001         4                 2          500  38947.2  0.520736   \n",
       "\n",
       "   train_MAE  train_R2  val_MAE   val_R2E  \n",
       "11   7949.93  0.983512  14766.1  0.900702  \n",
       "8    7960.03   0.98361  14824.6  0.899076  \n",
       "0    8700.07  0.979903  15007.2  0.898939  \n",
       "3    8700.21   0.98003  15014.4  0.898548  \n",
       "21   9971.84  0.972792  15416.3  0.895565  \n",
       "23   9973.57    0.9729  15430.6   0.89587  \n",
       "4     3719.9    0.9966  15129.4  0.896742  \n",
       "18   4328.41  0.995471  15248.5  0.895221  \n",
       "6    3684.44   0.99669  15180.7  0.894688  \n",
       "16   4282.11  0.995602  15267.3  0.894395  \n",
       "22   5428.56  0.993051  15533.5  0.891428  \n",
       "1    5446.73  0.992962  15528.4  0.892634  \n",
       "20     25197  0.821454  27858.7  0.738535  \n",
       "7    25186.3  0.821848  27882.3  0.737314  \n",
       "13   28172.4  0.764025  29611.3  0.714751  \n",
       "9    28170.9  0.764164  29608.7  0.715238  \n",
       "15   30789.5  0.731941  32749.7  0.658306  \n",
       "12   30800.2  0.731555  32730.2  0.659476  \n",
       "19   33322.8  0.674587  34390.1  0.631497  \n",
       "2    33323.1  0.674694  34390.1   0.63185  \n",
       "14   37998.2  0.589608  39234.2  0.532242  \n",
       "5    38008.5  0.589287  39217.3  0.533044  \n",
       "10   39905.7  0.538969  40588.2  0.504207  \n",
       "17   39905.6   0.53903  40586.6  0.504518  "
      ]
     },
     "metadata": {},
     "output_type": "display_data"
    }
   ],
   "source": [
    "children = list(hyperdrive_run.get_children())\n",
    "metricslist = {}\n",
    "i = 0\n",
    "    \n",
    "for single_run in children:\n",
    "    results = {k: v for k, v in single_run.get_metrics().items() if isinstance(v, float)}\n",
    "    parameters = single_run.get_details()[\"runDefinition\"][\"arguments\"]\n",
    "    try:\n",
    "        results[\"n-estimators\"] = parameters[3]\n",
    "        results[\"max-depth\"] = parameters[5]\n",
    "        results[\"min-samples-split\"] = parameters[7]\n",
    "        results[\"learning-rate\"] = parameters[9]\n",
    "        metricslist[i] = results\n",
    "        i += 1\n",
    "    except:\n",
    "        pass\n",
    "\n",
    "rundata = pd.DataFrame(metricslist).sort_index(1).T.sort_values(by=[\"test_MAE\"], ascending=True)\n",
    "display(rundata)"
   ]
  },
  {
   "cell_type": "markdown",
   "metadata": {},
   "source": [
    "#### We can also access directly the best run from our hyperdrive execution and then have access to the generated log files and the outputs we create explicitly."
   ]
  },
  {
   "cell_type": "code",
   "execution_count": 17,
   "metadata": {
    "scrolled": true
   },
   "outputs": [
    {
     "data": {
      "text/plain": [
       "'house_prices_hyperdrive_1572035965388836_8'"
      ]
     },
     "execution_count": 17,
     "metadata": {},
     "output_type": "execute_result"
    }
   ],
   "source": [
    "best_run = hyperdrive_run.get_best_run_by_primary_metric()\n",
    "best_run.id"
   ]
  },
  {
   "cell_type": "markdown",
   "metadata": {},
   "source": [
    "#### All files that we write to the special \"outputs\" folder are made available for each hyperdrive run. Here we list those generated by the best run."
   ]
  },
  {
   "cell_type": "code",
   "execution_count": 18,
   "metadata": {
    "scrolled": false
   },
   "outputs": [
    {
     "data": {
      "text/plain": [
       "['azureml-logs/55_azureml-execution-tvmps_6f64a1dc6520a4e52b169daa2f5fe7b6fcef4a0eb1ba2917d04343b2537f908a_d.txt',\n",
       " 'azureml-logs/65_job_prep-tvmps_6f64a1dc6520a4e52b169daa2f5fe7b6fcef4a0eb1ba2917d04343b2537f908a_d.txt',\n",
       " 'azureml-logs/70_driver_log.txt',\n",
       " 'azureml-logs/75_job_post-tvmps_6f64a1dc6520a4e52b169daa2f5fe7b6fcef4a0eb1ba2917d04343b2537f908a_d.txt',\n",
       " 'azureml-logs/process_info.json',\n",
       " 'azureml-logs/process_status.json',\n",
       " 'logs/azureml/135_azureml.log',\n",
       " 'logs/azureml/azureml.log',\n",
       " 'outputs/gbr_1000_4_4_0.01.pkl',\n",
       " 'outputs/y_test.pkl',\n",
       " 'outputs/y_test_predicted.pkl',\n",
       " 'outputs/y_train.pkl',\n",
       " 'outputs/y_train_predicted.pkl']"
      ]
     },
     "execution_count": 18,
     "metadata": {},
     "output_type": "execute_result"
    }
   ],
   "source": [
    "file_names = best_run.get_file_names()\n",
    "file_names"
   ]
  },
  {
   "cell_type": "markdown",
   "metadata": {},
   "source": [
    "#### We can then retrieve the model and corresponding train and test predictions that we explicitly saved in the run script."
   ]
  },
  {
   "cell_type": "code",
   "execution_count": 19,
   "metadata": {},
   "outputs": [],
   "source": [
    "model_folder = \"./model\"\n",
    "os.makedirs(model_folder, exist_ok=True)\n",
    "\n",
    "for f in file_names[-5:]:\n",
    "    best_run.download_file(f, model_folder)\n",
    "    \n",
    "model_name = file_names[-5].split(\"/\")[1]\n",
    "best_model = joblib.load(os.path.join(model_folder, model_name))\n",
    "\n",
    "y_pred_train = joblib.load(os.path.join(model_folder, file_names[-1].split(\"/\")[1]))\n",
    "y_true_train = joblib.load(os.path.join(model_folder, file_names[-2].split(\"/\")[1]))\n",
    "y_pred_test = joblib.load(os.path.join(model_folder, file_names[-3].split(\"/\")[1]))\n",
    "y_true_test = joblib.load(os.path.join(model_folder, file_names[-4].split(\"/\")[1]))"
   ]
  },
  {
   "cell_type": "code",
   "execution_count": 22,
   "metadata": {
    "scrolled": false
   },
   "outputs": [
    {
     "data": {
      "text/plain": [
       "GradientBoostingRegressor(alpha=0.9, criterion='friedman_mse', init=None,\n",
       "             learning_rate=0.01, loss='ls', max_depth=4, max_features=None,\n",
       "             max_leaf_nodes=None, min_impurity_decrease=0.0,\n",
       "             min_impurity_split=None, min_samples_leaf=1,\n",
       "             min_samples_split=4, min_weight_fraction_leaf=0.0,\n",
       "             n_estimators=1000, n_iter_no_change=None, presort='auto',\n",
       "             random_state=None, subsample=1.0, tol=0.0001,\n",
       "             validation_fraction=0.1, verbose=0, warm_start=False)"
      ]
     },
     "execution_count": 22,
     "metadata": {},
     "output_type": "execute_result"
    }
   ],
   "source": [
    "best_model"
   ]
  },
  {
   "cell_type": "markdown",
   "metadata": {},
   "source": [
    "#### Here we compute model performance metrics for train and test datasets."
   ]
  },
  {
   "cell_type": "code",
   "execution_count": 27,
   "metadata": {
    "scrolled": true
   },
   "outputs": [
    {
     "name": "stdout",
     "output_type": "stream",
     "text": [
      "MAPE (Train): 0.045696\n",
      "MAPE (Test): 0.079724\n",
      "Acc (Train): 0.954304\n",
      "Acc (Test): 0.920276\n",
      "MAE (Train): 8274.244247\n",
      "MAE (Test): 14370.196100\n",
      "R2 (Train): 0.982125\n",
      "R2 (Test): 0.903886\n"
     ]
    }
   ],
   "source": [
    "def MAPE(y_actual, y_predict):\n",
    "    sum_actuals = sum_errors = 0\n",
    "    \n",
    "    for actual_val, predict_val in zip(y_actual, y_predict):\n",
    "        abs_error = actual_val - predict_val\n",
    "        if abs_error < 0:\n",
    "            abs_error = abs_error * -1\n",
    "\n",
    "        sum_errors = sum_errors + abs_error\n",
    "        sum_actuals = sum_actuals + actual_val\n",
    "\n",
    "    return sum_errors / sum_actuals\n",
    "\n",
    "print(\"MAPE (Train): %f\" % MAPE(y_true_train, y_pred_train))\n",
    "print(\"MAPE (Test): %f\" % MAPE(y_true_test, y_pred_test))\n",
    "\n",
    "print(\"Acc (Train): %f\" % (1 - MAPE(y_true_train, y_pred_train)))\n",
    "print(\"Acc (Test): %f\" % (1 - MAPE(y_true_test, y_pred_test)))\n",
    "\n",
    "print(\"MAE (Train): %f\" % mean_absolute_error(y_true_train, y_pred_train))\n",
    "print(\"MAE (Test): %f\" % mean_absolute_error(y_true_test, y_pred_test))\n",
    "\n",
    "print(\"R2 (Train): %f\" % r2_score(y_true_train, y_pred_train))\n",
    "print(\"R2 (Test): %f\" % r2_score(y_true_test, y_pred_test))"
   ]
  },
  {
   "cell_type": "markdown",
   "metadata": {},
   "source": [
    "#### Now let's visualize the plots for predicted versus actual values for both train and test datasets."
   ]
  },
  {
   "cell_type": "code",
   "execution_count": 28,
   "metadata": {},
   "outputs": [
    {
     "data": {
      "image/png": "[encoded data removed]",
      "text/plain": [
       "<Figure size 432x288 with 1 Axes>"
      ]
     },
     "metadata": {
      "needs_background": "light"
     },
     "output_type": "display_data"
    }
   ],
   "source": [
    "plt.scatter(y=y_pred_train, x=y_true_train)\n",
    "plt.plot(y_true_train, y_true_train, color=\"red\")\n",
    "plt.title(\"Predicted vs Actuals (Train)\")\n",
    "plt.xlabel(\"Actual Values\")\n",
    "plt.ylabel(\"Predicted Values\")\n",
    "plt.show()"
   ]
  },
  {
   "cell_type": "code",
   "execution_count": 29,
   "metadata": {
    "scrolled": true
   },
   "outputs": [
    {
     "data": {
      "image/png": "[encoded data removed]",
      "text/plain": [
       "<Figure size 432x288 with 1 Axes>"
      ]
     },
     "metadata": {
      "needs_background": "light"
     },
     "output_type": "display_data"
    }
   ],
   "source": [
    "plt.scatter(y=y_pred_test, x=y_true_test)\n",
    "plt.plot(y_true_train, y_true_train, color=\"red\")\n",
    "plt.title(\"Predicted vs Actuals (Test)\")\n",
    "plt.xlabel(\"Actual Values\")\n",
    "plt.ylabel(\"Predicted Values\")\n",
    "plt.show()"
   ]
  },
  {
   "cell_type": "markdown",
   "metadata": {},
   "source": [
    "#### Finally, let's plot the error distributions for both train and test datasets."
   ]
  },
  {
   "cell_type": "code",
   "execution_count": 30,
   "metadata": {},
   "outputs": [
    {
     "data": {
      "image/png": "[encoded data removed]",
      "text/plain": [
       "<Figure size 432x288 with 1 Axes>"
      ]
     },
     "metadata": {
      "needs_background": "light"
     },
     "output_type": "display_data"
    }
   ],
   "source": [
    "ax = sns.distplot(y_pred_train - y_true_train)\n",
    "ax.set(title=\"Distribution of Errors (Train)\", xlabel=\"SalePrice\", ylabel=\"frequency\")\n",
    "plt.show()"
   ]
  },
  {
   "cell_type": "code",
   "execution_count": 31,
   "metadata": {},
   "outputs": [
    {
     "data": {
      "image/png": "[encoded data removed]",
      "text/plain": [
       "<Figure size 432x288 with 1 Axes>"
      ]
     },
     "metadata": {
      "needs_background": "light"
     },
     "output_type": "display_data"
    }
   ],
   "source": [
    "ax = sns.distplot(y_pred_test - y_true_test)\n",
    "ax.set(title=\"Distribution of Errors (Test)\", xlabel=\"SalePrice\", ylabel=\"frequency\")\n",
    "plt.show()"
   ]
  }
 ],
 "metadata": {
  "kernelspec": {
   "display_name": "ignite_ml_lab",
   "language": "python",
   "name": "ignite_ml_lab"
  },
  "language_info": {
   "codemirror_mode": {
    "name": "ipython",
    "version": 3
   },
   "file_extension": ".py",
   "mimetype": "text/x-python",
   "name": "python",
   "nbconvert_exporter": "python",
   "pygments_lexer": "ipython3",
   "version": "3.6.9"
  }
 },
 "nbformat": 4,
 "nbformat_minor": 2
}
