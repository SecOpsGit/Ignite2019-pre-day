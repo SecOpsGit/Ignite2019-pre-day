{
 "cells": [
  {
   "cell_type": "markdown",
   "metadata": {},
   "source": [
    "Copyright (c) Microsoft Corporation. All rights reserved.\n",
    "\n",
    "Licensed under the MIT License."
   ]
  },
  {
   "cell_type": "markdown",
   "metadata": {
    "nbpresent": {
     "id": "bf74d2e9-2708-49b1-934b-e0ede342f475"
    }
   },
   "source": [
    "# Hyperparameter Tuning of the Online Anomaly Detection algorithm\n",
    "\n",
    "## Introduction\n",
    "\n",
    "In the previous notebook, you learned to leverage the AML SDK features for Machine Learning experimentation to test the performance of our online solution for Anomaly Detection.  These tools allowed you to test the solution with different parameter settings.\n",
    "\n",
    "In this lab, we are going to take it a step further and use Azure `HyperDrive` to do the hard work of finding the best parameters for us. \n",
    "\n",
    "Typically it would be used to tune hyperparameters in Machine learning algorithms, such as the regularization constant in a support vector machine, or the number of hidden layers in a neural network.  \n",
    "\n",
    "However, HyperDrive was designed to be extremely flexible architecture.  You can combine it with any script that accepts hyper parameters arguments and returns a number that you are tyring to either minimize or maximize by finding the correct setting for your hyperparameters.  This is exactly what we are going to do here."
   ]
  },
  {
   "cell_type": "markdown",
   "metadata": {},
   "source": [
    "## Getting started\n",
    "\n",
    "Let's get started. First let's import some Python libraries."
   ]
  },
  {
   "cell_type": "code",
   "execution_count": 1,
   "metadata": {
    "nbpresent": {
     "id": "c377ea0c-0cd9-4345-9be2-e20fb29c94c3"
    }
   },
   "outputs": [],
   "source": [
    "#%matplotlib inline\n",
    "\n",
    "import numpy as np\n",
    "import os"
   ]
  },
  {
   "cell_type": "code",
   "execution_count": 2,
   "metadata": {
    "nbpresent": {
     "id": "edaa7f2f-2439-4148-b57a-8c794c0945ec"
    }
   },
   "outputs": [
    {
     "name": "stdout",
     "output_type": "stream",
     "text": [
      "Azure ML SDK Version:  1.0.21\n"
     ]
    }
   ],
   "source": [
    "import azureml\n",
    "from azureml.core import Workspace, Run\n",
    "\n",
    "# check core SDK version number\n",
    "print(\"Azure ML SDK Version: \", azureml.core.VERSION)"
   ]
  },
  {
   "cell_type": "markdown",
   "metadata": {},
   "source": [
    "## Diagnostics\n",
    "Opt-in diagnostics for better experience, quality, and security of future releases."
   ]
  },
  {
   "cell_type": "code",
   "execution_count": 3,
   "metadata": {
    "tags": [
     "Diagnostics"
    ]
   },
   "outputs": [
    {
     "name": "stdout",
     "output_type": "stream",
     "text": [
      "Turning diagnostics collection on. \n"
     ]
    }
   ],
   "source": [
    "from azureml.telemetry import set_diagnostics_collection\n",
    "set_diagnostics_collection(send_diagnostics=True)"
   ]
  },
  {
   "cell_type": "markdown",
   "metadata": {},
   "source": [
    "## Initialize workspace\n",
    "Initialize a [Workspace](https://docs.microsoft.com/azure/machine-learning/service/concept-azure-machine-learning-architecture#workspace) object from the existing workspace you created in the Prerequisites step. `Workspace.from_config()` creates a workspace object from the details stored in `config.json`."
   ]
  },
  {
   "cell_type": "code",
   "execution_count": 4,
   "metadata": {},
   "outputs": [
    {
     "name": "stdout",
     "output_type": "stream",
     "text": [
      "Found the config file in: C:\\Users\\sethmott\\aml_config\\config.json\n"
     ]
    },
    {
     "name": "stderr",
     "output_type": "stream",
     "text": [
      "Warning: Falling back to use azure cli login credentials.\n",
      "If you run your code in unattended mode, i.e., where you can't give a user input, then we recommend to use ServicePrincipalAuthentication or MsiAuthentication.\n",
      "Please refer to aka.ms/aml-notebook-auth for different authentication mechanisms in azureml-sdk.\n"
     ]
    },
    {
     "name": "stdout",
     "output_type": "stream",
     "text": [
      "Workspace name: amlws\n",
      "Azure region: eastus2\n",
      "Subscription id: 5be49961-ea44-42ec-8021-b728be90d58c\n",
      "Resource group: sethmottaml\n"
     ]
    }
   ],
   "source": [
    "from azureml.core.workspace import Workspace\n",
    "\n",
    "# config_path = '/dbfs/tmp/'\n",
    "\n",
    "# If you are running this on Jupyter, you may want to run \n",
    "config_path = os.path.expanduser('~')\n",
    "\n",
    "ws = Workspace.from_config(path=os.path.join(config_path, 'aml_config','config.json'))\n",
    "\n",
    "print('Workspace name: ' + ws.name, \n",
    "      'Azure region: ' + ws.location, \n",
    "      'Subscription id: ' + ws.subscription_id, \n",
    "      'Resource group: ' + ws.resource_group, sep = '\\n')"
   ]
  },
  {
   "cell_type": "markdown",
   "metadata": {
    "nbpresent": {
     "id": "59f52294-4a25-4c92-bab8-3b07f0f44d15"
    }
   },
   "source": [
    "## Create an Azure ML experiment\n",
    "Let's create an experiment named \"ADMLExp\" and a folder to hold the training scripts. The script runs will be recorded under the experiment in Azure."
   ]
  },
  {
   "cell_type": "code",
   "execution_count": 5,
   "metadata": {
    "nbpresent": {
     "id": "bc70f780-c240-4779-96f3-bc5ef9a37d59"
    }
   },
   "outputs": [],
   "source": [
    "from azureml.core import Experiment\n",
    "\n",
    "script_folder = 'scripts'\n",
    "\n",
    "os.makedirs(script_folder, exist_ok=True)\n",
    "\n",
    "exp = Experiment(workspace=ws, name='ADMLExp')"
   ]
  },
  {
   "cell_type": "markdown",
   "metadata": {
    "nbpresent": {
     "id": "defe921f-8097-44c3-8336-8af6700804a7"
    }
   },
   "source": [
    "## Download telemetry dataset\n",
    "In order to test on the telemetry dataset we will first need to download it from Yan LeCun's web site directly and save them in a `data` folder locally."
   ]
  },
  {
   "cell_type": "code",
   "execution_count": 7,
   "metadata": {},
   "outputs": [
    {
     "ename": "HTTPError",
     "evalue": "HTTP Error 404: The specified blob does not exist.",
     "output_type": "error",
     "traceback": [
      "\u001b[1;31m---------------------------------------------------------------------------\u001b[0m",
      "\u001b[1;31mHTTPError\u001b[0m                                 Traceback (most recent call last)",
      "\u001b[1;32m<ipython-input-7-2e86087e9843>\u001b[0m in \u001b[0;36m<module>\u001b[1;34m\u001b[0m\n\u001b[0;32m      7\u001b[0m \u001b[0mcontainer\u001b[0m \u001b[1;33m=\u001b[0m \u001b[1;34m'https://coursematerial.blob.core.windows.net/data/telemetry'\u001b[0m\u001b[1;33m\u001b[0m\u001b[1;33m\u001b[0m\u001b[0m\n\u001b[0;32m      8\u001b[0m \u001b[1;33m\u001b[0m\u001b[0m\n\u001b[1;32m----> 9\u001b[1;33m \u001b[0murllib\u001b[0m\u001b[1;33m.\u001b[0m\u001b[0mrequest\u001b[0m\u001b[1;33m.\u001b[0m\u001b[0murlretrieve\u001b[0m\u001b[1;33m(\u001b[0m\u001b[0mcontainer\u001b[0m \u001b[1;33m+\u001b[0m \u001b[1;34m'telemetry.csv'\u001b[0m\u001b[1;33m,\u001b[0m \u001b[0mfilename\u001b[0m\u001b[1;33m=\u001b[0m\u001b[0mos\u001b[0m\u001b[1;33m.\u001b[0m\u001b[0mpath\u001b[0m\u001b[1;33m.\u001b[0m\u001b[0mjoin\u001b[0m\u001b[1;33m(\u001b[0m\u001b[0mdata_path\u001b[0m\u001b[1;33m,\u001b[0m \u001b[1;34m'telemetry.csv'\u001b[0m\u001b[1;33m)\u001b[0m\u001b[1;33m)\u001b[0m\u001b[1;33m\u001b[0m\u001b[1;33m\u001b[0m\u001b[0m\n\u001b[0m\u001b[0;32m     10\u001b[0m \u001b[0murllib\u001b[0m\u001b[1;33m.\u001b[0m\u001b[0mrequest\u001b[0m\u001b[1;33m.\u001b[0m\u001b[0murlretrieve\u001b[0m\u001b[1;33m(\u001b[0m\u001b[0mcontainer\u001b[0m \u001b[1;33m+\u001b[0m \u001b[1;34m'anoms.csv'\u001b[0m\u001b[1;33m,\u001b[0m \u001b[0mfilename\u001b[0m\u001b[1;33m=\u001b[0m\u001b[0mos\u001b[0m\u001b[1;33m.\u001b[0m\u001b[0mpath\u001b[0m\u001b[1;33m.\u001b[0m\u001b[0mjoin\u001b[0m\u001b[1;33m(\u001b[0m\u001b[0mdata_path\u001b[0m\u001b[1;33m,\u001b[0m \u001b[1;34m'anoms.csv'\u001b[0m\u001b[1;33m)\u001b[0m\u001b[1;33m)\u001b[0m\u001b[1;33m\u001b[0m\u001b[1;33m\u001b[0m\u001b[0m\n",
      "\u001b[1;32m~\\AppData\\Local\\Continuum\\anaconda3\\envs\\learnai-adpm\\lib\\urllib\\request.py\u001b[0m in \u001b[0;36murlretrieve\u001b[1;34m(url, filename, reporthook, data)\u001b[0m\n\u001b[0;32m    246\u001b[0m     \u001b[0murl_type\u001b[0m\u001b[1;33m,\u001b[0m \u001b[0mpath\u001b[0m \u001b[1;33m=\u001b[0m \u001b[0msplittype\u001b[0m\u001b[1;33m(\u001b[0m\u001b[0murl\u001b[0m\u001b[1;33m)\u001b[0m\u001b[1;33m\u001b[0m\u001b[1;33m\u001b[0m\u001b[0m\n\u001b[0;32m    247\u001b[0m \u001b[1;33m\u001b[0m\u001b[0m\n\u001b[1;32m--> 248\u001b[1;33m     \u001b[1;32mwith\u001b[0m \u001b[0mcontextlib\u001b[0m\u001b[1;33m.\u001b[0m\u001b[0mclosing\u001b[0m\u001b[1;33m(\u001b[0m\u001b[0murlopen\u001b[0m\u001b[1;33m(\u001b[0m\u001b[0murl\u001b[0m\u001b[1;33m,\u001b[0m \u001b[0mdata\u001b[0m\u001b[1;33m)\u001b[0m\u001b[1;33m)\u001b[0m \u001b[1;32mas\u001b[0m \u001b[0mfp\u001b[0m\u001b[1;33m:\u001b[0m\u001b[1;33m\u001b[0m\u001b[1;33m\u001b[0m\u001b[0m\n\u001b[0m\u001b[0;32m    249\u001b[0m         \u001b[0mheaders\u001b[0m \u001b[1;33m=\u001b[0m \u001b[0mfp\u001b[0m\u001b[1;33m.\u001b[0m\u001b[0minfo\u001b[0m\u001b[1;33m(\u001b[0m\u001b[1;33m)\u001b[0m\u001b[1;33m\u001b[0m\u001b[1;33m\u001b[0m\u001b[0m\n\u001b[0;32m    250\u001b[0m \u001b[1;33m\u001b[0m\u001b[0m\n",
      "\u001b[1;32m~\\AppData\\Local\\Continuum\\anaconda3\\envs\\learnai-adpm\\lib\\urllib\\request.py\u001b[0m in \u001b[0;36murlopen\u001b[1;34m(url, data, timeout, cafile, capath, cadefault, context)\u001b[0m\n\u001b[0;32m    221\u001b[0m     \u001b[1;32melse\u001b[0m\u001b[1;33m:\u001b[0m\u001b[1;33m\u001b[0m\u001b[1;33m\u001b[0m\u001b[0m\n\u001b[0;32m    222\u001b[0m         \u001b[0mopener\u001b[0m \u001b[1;33m=\u001b[0m \u001b[0m_opener\u001b[0m\u001b[1;33m\u001b[0m\u001b[1;33m\u001b[0m\u001b[0m\n\u001b[1;32m--> 223\u001b[1;33m     \u001b[1;32mreturn\u001b[0m \u001b[0mopener\u001b[0m\u001b[1;33m.\u001b[0m\u001b[0mopen\u001b[0m\u001b[1;33m(\u001b[0m\u001b[0murl\u001b[0m\u001b[1;33m,\u001b[0m \u001b[0mdata\u001b[0m\u001b[1;33m,\u001b[0m \u001b[0mtimeout\u001b[0m\u001b[1;33m)\u001b[0m\u001b[1;33m\u001b[0m\u001b[1;33m\u001b[0m\u001b[0m\n\u001b[0m\u001b[0;32m    224\u001b[0m \u001b[1;33m\u001b[0m\u001b[0m\n\u001b[0;32m    225\u001b[0m \u001b[1;32mdef\u001b[0m \u001b[0minstall_opener\u001b[0m\u001b[1;33m(\u001b[0m\u001b[0mopener\u001b[0m\u001b[1;33m)\u001b[0m\u001b[1;33m:\u001b[0m\u001b[1;33m\u001b[0m\u001b[1;33m\u001b[0m\u001b[0m\n",
      "\u001b[1;32m~\\AppData\\Local\\Continuum\\anaconda3\\envs\\learnai-adpm\\lib\\urllib\\request.py\u001b[0m in \u001b[0;36mopen\u001b[1;34m(self, fullurl, data, timeout)\u001b[0m\n\u001b[0;32m    530\u001b[0m         \u001b[1;32mfor\u001b[0m \u001b[0mprocessor\u001b[0m \u001b[1;32min\u001b[0m \u001b[0mself\u001b[0m\u001b[1;33m.\u001b[0m\u001b[0mprocess_response\u001b[0m\u001b[1;33m.\u001b[0m\u001b[0mget\u001b[0m\u001b[1;33m(\u001b[0m\u001b[0mprotocol\u001b[0m\u001b[1;33m,\u001b[0m \u001b[1;33m[\u001b[0m\u001b[1;33m]\u001b[0m\u001b[1;33m)\u001b[0m\u001b[1;33m:\u001b[0m\u001b[1;33m\u001b[0m\u001b[1;33m\u001b[0m\u001b[0m\n\u001b[0;32m    531\u001b[0m             \u001b[0mmeth\u001b[0m \u001b[1;33m=\u001b[0m \u001b[0mgetattr\u001b[0m\u001b[1;33m(\u001b[0m\u001b[0mprocessor\u001b[0m\u001b[1;33m,\u001b[0m \u001b[0mmeth_name\u001b[0m\u001b[1;33m)\u001b[0m\u001b[1;33m\u001b[0m\u001b[1;33m\u001b[0m\u001b[0m\n\u001b[1;32m--> 532\u001b[1;33m             \u001b[0mresponse\u001b[0m \u001b[1;33m=\u001b[0m \u001b[0mmeth\u001b[0m\u001b[1;33m(\u001b[0m\u001b[0mreq\u001b[0m\u001b[1;33m,\u001b[0m \u001b[0mresponse\u001b[0m\u001b[1;33m)\u001b[0m\u001b[1;33m\u001b[0m\u001b[1;33m\u001b[0m\u001b[0m\n\u001b[0m\u001b[0;32m    533\u001b[0m \u001b[1;33m\u001b[0m\u001b[0m\n\u001b[0;32m    534\u001b[0m         \u001b[1;32mreturn\u001b[0m \u001b[0mresponse\u001b[0m\u001b[1;33m\u001b[0m\u001b[1;33m\u001b[0m\u001b[0m\n",
      "\u001b[1;32m~\\AppData\\Local\\Continuum\\anaconda3\\envs\\learnai-adpm\\lib\\urllib\\request.py\u001b[0m in \u001b[0;36mhttp_response\u001b[1;34m(self, request, response)\u001b[0m\n\u001b[0;32m    640\u001b[0m         \u001b[1;32mif\u001b[0m \u001b[1;32mnot\u001b[0m \u001b[1;33m(\u001b[0m\u001b[1;36m200\u001b[0m \u001b[1;33m<=\u001b[0m \u001b[0mcode\u001b[0m \u001b[1;33m<\u001b[0m \u001b[1;36m300\u001b[0m\u001b[1;33m)\u001b[0m\u001b[1;33m:\u001b[0m\u001b[1;33m\u001b[0m\u001b[1;33m\u001b[0m\u001b[0m\n\u001b[0;32m    641\u001b[0m             response = self.parent.error(\n\u001b[1;32m--> 642\u001b[1;33m                 'http', request, response, code, msg, hdrs)\n\u001b[0m\u001b[0;32m    643\u001b[0m \u001b[1;33m\u001b[0m\u001b[0m\n\u001b[0;32m    644\u001b[0m         \u001b[1;32mreturn\u001b[0m \u001b[0mresponse\u001b[0m\u001b[1;33m\u001b[0m\u001b[1;33m\u001b[0m\u001b[0m\n",
      "\u001b[1;32m~\\AppData\\Local\\Continuum\\anaconda3\\envs\\learnai-adpm\\lib\\urllib\\request.py\u001b[0m in \u001b[0;36merror\u001b[1;34m(self, proto, *args)\u001b[0m\n\u001b[0;32m    568\u001b[0m         \u001b[1;32mif\u001b[0m \u001b[0mhttp_err\u001b[0m\u001b[1;33m:\u001b[0m\u001b[1;33m\u001b[0m\u001b[1;33m\u001b[0m\u001b[0m\n\u001b[0;32m    569\u001b[0m             \u001b[0margs\u001b[0m \u001b[1;33m=\u001b[0m \u001b[1;33m(\u001b[0m\u001b[0mdict\u001b[0m\u001b[1;33m,\u001b[0m \u001b[1;34m'default'\u001b[0m\u001b[1;33m,\u001b[0m \u001b[1;34m'http_error_default'\u001b[0m\u001b[1;33m)\u001b[0m \u001b[1;33m+\u001b[0m \u001b[0morig_args\u001b[0m\u001b[1;33m\u001b[0m\u001b[1;33m\u001b[0m\u001b[0m\n\u001b[1;32m--> 570\u001b[1;33m             \u001b[1;32mreturn\u001b[0m \u001b[0mself\u001b[0m\u001b[1;33m.\u001b[0m\u001b[0m_call_chain\u001b[0m\u001b[1;33m(\u001b[0m\u001b[1;33m*\u001b[0m\u001b[0margs\u001b[0m\u001b[1;33m)\u001b[0m\u001b[1;33m\u001b[0m\u001b[1;33m\u001b[0m\u001b[0m\n\u001b[0m\u001b[0;32m    571\u001b[0m \u001b[1;33m\u001b[0m\u001b[0m\n\u001b[0;32m    572\u001b[0m \u001b[1;31m# XXX probably also want an abstract factory that knows when it makes\u001b[0m\u001b[1;33m\u001b[0m\u001b[1;33m\u001b[0m\u001b[1;33m\u001b[0m\u001b[0m\n",
      "\u001b[1;32m~\\AppData\\Local\\Continuum\\anaconda3\\envs\\learnai-adpm\\lib\\urllib\\request.py\u001b[0m in \u001b[0;36m_call_chain\u001b[1;34m(self, chain, kind, meth_name, *args)\u001b[0m\n\u001b[0;32m    502\u001b[0m         \u001b[1;32mfor\u001b[0m \u001b[0mhandler\u001b[0m \u001b[1;32min\u001b[0m \u001b[0mhandlers\u001b[0m\u001b[1;33m:\u001b[0m\u001b[1;33m\u001b[0m\u001b[1;33m\u001b[0m\u001b[0m\n\u001b[0;32m    503\u001b[0m             \u001b[0mfunc\u001b[0m \u001b[1;33m=\u001b[0m \u001b[0mgetattr\u001b[0m\u001b[1;33m(\u001b[0m\u001b[0mhandler\u001b[0m\u001b[1;33m,\u001b[0m \u001b[0mmeth_name\u001b[0m\u001b[1;33m)\u001b[0m\u001b[1;33m\u001b[0m\u001b[1;33m\u001b[0m\u001b[0m\n\u001b[1;32m--> 504\u001b[1;33m             \u001b[0mresult\u001b[0m \u001b[1;33m=\u001b[0m \u001b[0mfunc\u001b[0m\u001b[1;33m(\u001b[0m\u001b[1;33m*\u001b[0m\u001b[0margs\u001b[0m\u001b[1;33m)\u001b[0m\u001b[1;33m\u001b[0m\u001b[1;33m\u001b[0m\u001b[0m\n\u001b[0m\u001b[0;32m    505\u001b[0m             \u001b[1;32mif\u001b[0m \u001b[0mresult\u001b[0m \u001b[1;32mis\u001b[0m \u001b[1;32mnot\u001b[0m \u001b[1;32mNone\u001b[0m\u001b[1;33m:\u001b[0m\u001b[1;33m\u001b[0m\u001b[1;33m\u001b[0m\u001b[0m\n\u001b[0;32m    506\u001b[0m                 \u001b[1;32mreturn\u001b[0m \u001b[0mresult\u001b[0m\u001b[1;33m\u001b[0m\u001b[1;33m\u001b[0m\u001b[0m\n",
      "\u001b[1;32m~\\AppData\\Local\\Continuum\\anaconda3\\envs\\learnai-adpm\\lib\\urllib\\request.py\u001b[0m in \u001b[0;36mhttp_error_default\u001b[1;34m(self, req, fp, code, msg, hdrs)\u001b[0m\n\u001b[0;32m    648\u001b[0m \u001b[1;32mclass\u001b[0m \u001b[0mHTTPDefaultErrorHandler\u001b[0m\u001b[1;33m(\u001b[0m\u001b[0mBaseHandler\u001b[0m\u001b[1;33m)\u001b[0m\u001b[1;33m:\u001b[0m\u001b[1;33m\u001b[0m\u001b[1;33m\u001b[0m\u001b[0m\n\u001b[0;32m    649\u001b[0m     \u001b[1;32mdef\u001b[0m \u001b[0mhttp_error_default\u001b[0m\u001b[1;33m(\u001b[0m\u001b[0mself\u001b[0m\u001b[1;33m,\u001b[0m \u001b[0mreq\u001b[0m\u001b[1;33m,\u001b[0m \u001b[0mfp\u001b[0m\u001b[1;33m,\u001b[0m \u001b[0mcode\u001b[0m\u001b[1;33m,\u001b[0m \u001b[0mmsg\u001b[0m\u001b[1;33m,\u001b[0m \u001b[0mhdrs\u001b[0m\u001b[1;33m)\u001b[0m\u001b[1;33m:\u001b[0m\u001b[1;33m\u001b[0m\u001b[1;33m\u001b[0m\u001b[0m\n\u001b[1;32m--> 650\u001b[1;33m         \u001b[1;32mraise\u001b[0m \u001b[0mHTTPError\u001b[0m\u001b[1;33m(\u001b[0m\u001b[0mreq\u001b[0m\u001b[1;33m.\u001b[0m\u001b[0mfull_url\u001b[0m\u001b[1;33m,\u001b[0m \u001b[0mcode\u001b[0m\u001b[1;33m,\u001b[0m \u001b[0mmsg\u001b[0m\u001b[1;33m,\u001b[0m \u001b[0mhdrs\u001b[0m\u001b[1;33m,\u001b[0m \u001b[0mfp\u001b[0m\u001b[1;33m)\u001b[0m\u001b[1;33m\u001b[0m\u001b[1;33m\u001b[0m\u001b[0m\n\u001b[0m\u001b[0;32m    651\u001b[0m \u001b[1;33m\u001b[0m\u001b[0m\n\u001b[0;32m    652\u001b[0m \u001b[1;32mclass\u001b[0m \u001b[0mHTTPRedirectHandler\u001b[0m\u001b[1;33m(\u001b[0m\u001b[0mBaseHandler\u001b[0m\u001b[1;33m)\u001b[0m\u001b[1;33m:\u001b[0m\u001b[1;33m\u001b[0m\u001b[1;33m\u001b[0m\u001b[0m\n",
      "\u001b[1;31mHTTPError\u001b[0m: HTTP Error 404: The specified blob does not exist."
     ]
    }
   ],
   "source": [
    "import os\n",
    "import urllib\n",
    "\n",
    "data_path = os.path.join(config_path, 'data')\n",
    "os.makedirs(data_path, exist_ok=True)\n",
    "\n",
    "container = 'https://coursematerial.blob.core.windows.net/data/telemetry'\n",
    "\n",
    "urllib.request.urlretrieve(container + 'telemetry.csv', filename=os.path.join(data_path, 'telemetry.csv'))\n",
    "urllib.request.urlretrieve(container + 'anoms.csv', filename=os.path.join(data_path, 'anoms.csv'))"
   ]
  },
  {
   "cell_type": "markdown",
   "metadata": {},
   "source": [
    "## Upload dataset to default datastore \n",
    "A [datastore](https://docs.microsoft.com/azure/machine-learning/service/how-to-access-data) is a place where data can be stored that is then made accessible to a Run either by means of mounting or copying the data to the compute target. A datastore can either be backed by an Azure Blob Storage or and Azure File Share (ADLS will be supported in the future). For simple data handling, each workspace provides a default datastore that can be used, in case the data is not already in Blob Storage or File Share.\n",
    "\n",
    "In this next step, we will upload the training and test set into the workspace's default datastore, which we will then later be mount on a Batch AI cluster for training."
   ]
  },
  {
   "cell_type": "code",
   "execution_count": null,
   "metadata": {},
   "outputs": [],
   "source": [
    "ds = ws.get_default_datastore()\n",
    "ds.upload(src_dir=data_path, target_path='telemetry', overwrite=True, show_progress=True)"
   ]
  },
  {
   "cell_type": "markdown",
   "metadata": {},
   "source": [
    "## Create Batch AI cluster as compute target\n",
    "[Batch AI](https://docs.microsoft.com/en-us/azure/batch-ai/overview) is a service for provisioning and managing clusters of Azure virtual machines for running machine learning workloads. Let's create a new Batch AI cluster in the current workspace, if it doesn't already exist. We will then run the training script on this compute target."
   ]
  },
  {
   "cell_type": "markdown",
   "metadata": {},
   "source": [
    "If we could not find the cluster with the given name in the previous cell, then we will create a new cluster here. We will create a AmlCompute Cluster of `Standard_DS3_v2` CPU VMs. This process is broken down into 3 steps:\n",
    "1. create the configuration (this step is local and only takes a second)\n",
    "2. create the Batch AI cluster (this step will take about **20 seconds**)\n",
    "3. provision the VMs to bring the cluster to the initial size (of 1 in this case). This step will take about **3-5 minutes** and is providing only sparse output in the process. Please make sure to wait until the call returns before moving to the next cell"
   ]
  },
  {
   "cell_type": "code",
   "execution_count": null,
   "metadata": {},
   "outputs": [],
   "source": [
    "from azureml.core.compute import ComputeTarget, BatchAiCompute\n",
    "from azureml.core.compute_target import ComputeTargetException\n",
    "\n",
    "# choose a name for your cluster\n",
    "cluster_name = \"ADPMAmlCompute\"\n",
    "\n",
    "try:\n",
    "    # look for the existing cluster by name\n",
    "    compute_target = ComputeTarget(workspace=ws, name=cluster_name)\n",
    "    if type(compute_target) is BatchAiCompute:\n",
    "        print('Found existing compute target {}.'.format(cluster_name))\n",
    "    else:\n",
    "        print('{} exists but it is not a Batch AI cluster. Please choose a different name.'.format(cluster_name))\n",
    "except ComputeTargetException:\n",
    "    print('Creating a new compute target...')\n",
    "    compute_config = BatchAiCompute.provisioning_configuration(vm_size=\"Standard_DS3_v2\",\n",
    "                                                                #vm_priority='lowpriority', # optional\n",
    "                                                                autoscale_enabled=True,\n",
    "                                                                cluster_min_nodes=1, \n",
    "                                                                cluster_max_nodes=4)\n",
    "\n",
    "    # create the cluster\n",
    "    compute_target = ComputeTarget.create(ws, cluster_name, compute_config)\n",
    "    \n",
    "    # can poll for a minimum number of nodes and for a specific timeout. \n",
    "    # if no min node count is provided it uses the scale settings for the cluster\n",
    "    compute_target.wait_for_completion(show_output=True, min_node_count=None, timeout_in_minutes=20)\n",
    "    \n",
    "    # Use the 'status' property to get a detailed status for the current cluster. \n",
    "    print(compute_target.status.serialize())"
   ]
  },
  {
   "cell_type": "markdown",
   "metadata": {},
   "source": [
    "## Download the execution script into the script folder\n",
    "\n",
    "The execution script is already created for you. You can simply copy it into the script folder. You could also use the one from the previous lab, but let's play it safe."
   ]
  },
  {
   "cell_type": "code",
   "execution_count": null,
   "metadata": {},
   "outputs": [],
   "source": [
    "# download the script file from the repo. \n",
    "urllib.request.urlretrieve(\n",
    "    'https://raw.githubusercontent.com/Azure/LearnAI-ADPM/master/solutions/sample_run_AmlCompute.py', \n",
    "    filename=os.path.join(script_folder, 'sample_run_AmlCompute.py'))"
   ]
  },
  {
   "cell_type": "markdown",
   "metadata": {},
   "source": [
    "Make sure the execution script looks correct."
   ]
  },
  {
   "cell_type": "code",
   "execution_count": null,
   "metadata": {},
   "outputs": [],
   "source": [
    "with open(os.path.join(script_folder,'sample_run_AmlCompute.py'), 'r') as f:\n",
    "    print(f.read())"
   ]
  },
  {
   "cell_type": "markdown",
   "metadata": {},
   "source": [
    "## Configure Estimator and policy for hyperparameter tuning\n",
    "\n",
    "We have trained the model with one set of hyperparameters, now let's how we can do hyperparameter tuning by launching multiple runs on the cluster. First let's define the parameter space using random sampling."
   ]
  },
  {
   "cell_type": "code",
   "execution_count": null,
   "metadata": {},
   "outputs": [],
   "source": [
    "from azureml.train.hyperdrive import *\n",
    "\n",
    "ps = RandomParameterSampling(\n",
    "    {\n",
    "        '--window_size': choice(100, 500, 1000, 2000, 5000),\n",
    "        '--com': choice(4, 6, 12, 24)\n",
    "    }\n",
    ")"
   ]
  },
  {
   "cell_type": "markdown",
   "metadata": {},
   "source": [
    "Next, we will create a new estimator without the above parameters since they will be passed in later. Note we still need to keep the `data-folder` parameter since that's not a hyperparamter we will sweep."
   ]
  },
  {
   "cell_type": "markdown",
   "metadata": {},
   "source": [
    "## Create an AzureML training Estimator\n",
    "\n",
    "Next, we construct an `azureml.train.Estimator` estimator object, use the Batch AI cluster as compute target, and pass the mount-point of the datastore to the training code as a parameter.\n",
    "\n",
    "The estimator is providing a simple way of launching a custom job on a compute target.  It will automatically provide a docker image, if additional pip or conda packages are required, their names can be passed in via the `pip_packages` and `conda_packages` arguments and they will be included in the resulting docker.\n",
    "\n",
    "In our case, we will need to install the following `pip_packages`: `numpy`, `pandas`, `scikit-learn`.\n",
    "\n",
    "Unlike in the previous lab, we do not provide hyperparameters as `script_params` to the Estimator, because they will be set by `HyperDrive`."
   ]
  },
  {
   "cell_type": "code",
   "execution_count": null,
   "metadata": {},
   "outputs": [],
   "source": [
    "from azureml.train.estimator import Estimator\n",
    "\n",
    "script_params = {\n",
    "    '--data-folder': ws.get_default_datastore().as_mount(),\n",
    "# We are not using the following parameters, because they will be set by HyperDrive\n",
    "#     '--window_size': 500,\n",
    "#     '--com': 12\n",
    "}\n",
    "\n",
    "est = Estimator(source_directory=script_folder,\n",
    "                 script_params=script_params,\n",
    "                 compute_target=compute_target,\n",
    "                 entry_script='sample_run_AmlCompute.py',\n",
    "                 pip_packages=['numpy','pandas','scikit-learn','pyculiarity'])"
   ]
  },
  {
   "cell_type": "markdown",
   "metadata": {},
   "source": [
    "Now we will define an early termnination policy. The `BanditPolicy` basically states to check the job every 2 iterations. If the primary metric (defined later) falls outside of the top 10% range, Azure ML terminate the job. This saves us from continuing to explore hyperparameters that don't show promise of helping reach our target metric."
   ]
  },
  {
   "cell_type": "code",
   "execution_count": null,
   "metadata": {},
   "outputs": [],
   "source": [
    "policy = BanditPolicy(evaluation_interval=2, slack_factor=0.1, delay_evaluation=250)"
   ]
  },
  {
   "cell_type": "markdown",
   "metadata": {},
   "source": [
    "Now we are ready to configure a run configuration object, and specify the primary metric `validation_acc` that's recorded in your training runs. If you go back to visit the training script, you will notice that this value is being logged after every epoch (a full batch set). We also want to tell the service that we are looking to maximizing this value. We also set the number of samples to 20, and maximal concurrent job to 4, which is the same as the number of nodes in our computer cluster."
   ]
  },
  {
   "cell_type": "code",
   "execution_count": null,
   "metadata": {},
   "outputs": [],
   "source": [
    "htc = HyperDriveRunConfig(estimator=est, \n",
    "                          hyperparameter_sampling=ps, \n",
    "                          primary_metric_name='fbeta_score', \n",
    "                          primary_metric_goal=PrimaryMetricGoal.MAXIMIZE, \n",
    "                          policy=policy,\n",
    "                          max_total_runs=30,\n",
    "                          max_concurrent_runs=4)"
   ]
  },
  {
   "cell_type": "markdown",
   "metadata": {},
   "source": [
    "Finally, let's launch the hyperparameter tuning job."
   ]
  },
  {
   "cell_type": "code",
   "execution_count": null,
   "metadata": {},
   "outputs": [],
   "source": [
    "htr = exp.submit(config=htc)"
   ]
  },
  {
   "cell_type": "code",
   "execution_count": null,
   "metadata": {},
   "outputs": [],
   "source": [
    "htr"
   ]
  },
  {
   "cell_type": "markdown",
   "metadata": {},
   "source": [
    "If you want, you can wait for completion, by uncommenting the next cell. But you can also skip the cell and look at preliminary results. You will still have to wait for about a minute before the first results show up."
   ]
  },
  {
   "cell_type": "code",
   "execution_count": null,
   "metadata": {},
   "outputs": [],
   "source": [
    "# htr.wait_for_completion(show_output = True)"
   ]
  },
  {
   "cell_type": "markdown",
   "metadata": {},
   "source": [
    "## Find and register best model\n",
    "When all the jobs finish, we can find out the one that has the highest accuracy.\n",
    "\n",
    "**Note**: If you get a `TrainingException` or a `KeyError` below, you probably just have to wait until the first training run is completed."
   ]
  },
  {
   "cell_type": "code",
   "execution_count": null,
   "metadata": {},
   "outputs": [],
   "source": [
    "best_run = htr.get_best_run_by_primary_metric()"
   ]
  },
  {
   "cell_type": "markdown",
   "metadata": {},
   "source": [
    "### Hands-on lab\n",
    "\n",
    "Go to the Azure portal and explore how HyperDrive logs run metrics there.\n",
    "\n",
    "### End lab"
   ]
  },
  {
   "cell_type": "markdown",
   "metadata": {},
   "source": [
    "Now let's list the model files uploaded during the run."
   ]
  },
  {
   "cell_type": "code",
   "execution_count": null,
   "metadata": {},
   "outputs": [],
   "source": [
    "run_details = best_run.get_details()\n",
    "\n",
    "print(\"arguments of best run: %s\" % (run_details['runDefinition']['Arguments']))\n",
    "best_run.get_metrics()['final_fbeta_score']"
   ]
  },
  {
   "cell_type": "code",
   "execution_count": null,
   "metadata": {},
   "outputs": [],
   "source": [
    "run_details"
   ]
  },
  {
   "cell_type": "markdown",
   "metadata": {},
   "source": [
    "### Hands-on lab\n",
    "\n",
    "Use python `help(azureml.train.hyperdrive)` and expore the documentation for HyperDrive.  \n",
    "\n",
    "Above, we used a BanditPolicy. Try to fully understand what the parameters of the policy are. \n",
    "\n",
    "Try to pick one other policy and see whether you can replace the BanditPolicy above and run a new HyperDrive job.\n",
    "\n",
    "### End Lab"
   ]
  },
  {
   "cell_type": "markdown",
   "metadata": {},
   "source": [
    "## Clean up\n",
    "\n",
    "We can also delete the computer cluster. But remember if you set the `cluster_min_nodes` value to 0 when you created the cluster, once the jobs are finished, all nodes are deleted automatically. So you don't have to delete the cluster itself since it won't incur any cost. Next time you submit jobs to it, the cluster will then automatically \"grow\" up to the `cluster_min_nodes` which is set to 4."
   ]
  },
  {
   "cell_type": "code",
   "execution_count": null,
   "metadata": {},
   "outputs": [],
   "source": [
    "# delete the cluster if you need to.\n",
    "compute_target.delete()"
   ]
  },
  {
   "cell_type": "code",
   "execution_count": null,
   "metadata": {},
   "outputs": [],
   "source": []
  }
 ],
 "metadata": {
  "authors": [
   {
    "name": "minxia"
   }
  ],
  "kernelspec": {
   "display_name": "Python 3",
   "language": "python",
   "name": "python3"
  },
  "language_info": {
   "codemirror_mode": {
    "name": "ipython",
    "version": 3
   },
   "file_extension": ".py",
   "mimetype": "text/x-python",
   "name": "python",
   "nbconvert_exporter": "python",
   "pygments_lexer": "ipython3",
   "version": "3.6.8"
  },
  "name": "AD_hyperparameter_tuning",
  "nbpresent": {
   "slides": {
    "05bb34ad-74b0-42b3-9654-8357d1ba9c99": {
     "id": "05bb34ad-74b0-42b3-9654-8357d1ba9c99",
     "prev": "851089af-9725-40c9-8f0b-9bf892b2b1fe",
     "regions": {
      "23fb396d-50f9-4770-adb3-0d6abcb40767": {
       "attrs": {
        "height": 0.8,
        "width": 0.8,
        "x": 0.1,
        "y": 0.1
       },
       "content": {
        "cell": "2039d2d5-aca6-4f25-a12f-df9ae6529cae",
        "part": "whole"
       },
       "id": "23fb396d-50f9-4770-adb3-0d6abcb40767"
      }
     }
    },
    "11bebe14-d1dc-476d-a31a-5828b9c3adf0": {
     "id": "11bebe14-d1dc-476d-a31a-5828b9c3adf0",
     "prev": "502648cb-26fe-496b-899f-84c8fe1dcbc0",
     "regions": {
      "a42499db-623e-4414-bea2-ff3617fd8fc5": {
       "attrs": {
        "height": 0.8,
        "width": 0.8,
        "x": 0.1,
        "y": 0.1
       },
       "content": {
        "cell": "4788c040-27a2-4dc1-8ed0-378a99b3a255",
        "part": "whole"
       },
       "id": "a42499db-623e-4414-bea2-ff3617fd8fc5"
      }
     }
    },
    "134f92d0-6389-4226-af51-1134ae8e8278": {
     "id": "134f92d0-6389-4226-af51-1134ae8e8278",
     "prev": "36b8728c-32ad-4941-be03-5cef51cdc430",
     "regions": {
      "b6d82a77-2d58-4b9e-a375-3103214b826c": {
       "attrs": {
        "height": 0.8,
        "width": 0.8,
        "x": 0.1,
        "y": 0.1
       },
       "content": {
        "cell": "7ab0e6d0-1f1c-451b-8ac5-687da44a8287",
        "part": "whole"
       },
       "id": "b6d82a77-2d58-4b9e-a375-3103214b826c"
      }
     }
    },
    "282a2421-697b-4fd0-9485-755abf5a0c18": {
     "id": "282a2421-697b-4fd0-9485-755abf5a0c18",
     "prev": "a8b9ceb9-b38f-4489-84df-b644c6fe28f2",
     "regions": {
      "522fec96-abe7-4a34-bd34-633733afecc8": {
       "attrs": {
        "height": 0.8,
        "width": 0.8,
        "x": 0.1,
        "y": 0.1
       },
       "content": {
        "cell": "d58e7785-c2ee-4a45-8e3d-4c538bf8075a",
        "part": "whole"
       },
       "id": "522fec96-abe7-4a34-bd34-633733afecc8"
      }
     }
    },
    "2dfec088-8a70-411a-9199-904ef3fa2383": {
     "id": "2dfec088-8a70-411a-9199-904ef3fa2383",
     "prev": "282a2421-697b-4fd0-9485-755abf5a0c18",
     "regions": {
      "0535fcb6-3a2b-4b46-98a7-3ebb1a38c47e": {
       "attrs": {
        "height": 0.8,
        "width": 0.8,
        "x": 0.1,
        "y": 0.1
       },
       "content": {
        "cell": "c377ea0c-0cd9-4345-9be2-e20fb29c94c3",
        "part": "whole"
       },
       "id": "0535fcb6-3a2b-4b46-98a7-3ebb1a38c47e"
      }
     }
    },
    "36a814c9-c540-4a6d-92d9-c03553d3d2c2": {
     "id": "36a814c9-c540-4a6d-92d9-c03553d3d2c2",
     "prev": "b52e4d09-5186-44e5-84db-3371c087acde",
     "regions": {
      "8bfba503-9907-43f0-b1a6-46a0b4311793": {
       "attrs": {
        "height": 0.8,
        "width": 0.8,
        "x": 0.1,
        "y": 0.1
       },
       "content": {
        "cell": "d5e4a56c-dfac-4346-be83-1c15b503deac",
        "part": "whole"
       },
       "id": "8bfba503-9907-43f0-b1a6-46a0b4311793"
      }
     }
    },
    "36b8728c-32ad-4941-be03-5cef51cdc430": {
     "id": "36b8728c-32ad-4941-be03-5cef51cdc430",
     "prev": "05bb34ad-74b0-42b3-9654-8357d1ba9c99",
     "regions": {
      "a36a5bdf-7f62-49b0-8634-e155a98851dc": {
       "attrs": {
        "height": 0.8,
        "width": 0.8,
        "x": 0.1,
        "y": 0.1
       },
       "content": {
        "cell": "e33dfc47-e7df-4623-a7a6-ab6bcf944629",
        "part": "whole"
       },
       "id": "a36a5bdf-7f62-49b0-8634-e155a98851dc"
      }
     }
    },
    "3f136f2a-f14c-4a4b-afea-13380556a79c": {
     "id": "3f136f2a-f14c-4a4b-afea-13380556a79c",
     "prev": "54cb8dfd-a89c-4922-867b-3c87d8b67cd3",
     "regions": {
      "80ecf237-d1b0-401e-83d2-6d04b7fcebd3": {
       "attrs": {
        "height": 0.8,
        "width": 0.8,
        "x": 0.1,
        "y": 0.1
       },
       "content": {
        "cell": "7debeb2b-ecea-414f-9b50-49657abb3e6a",
        "part": "whole"
       },
       "id": "80ecf237-d1b0-401e-83d2-6d04b7fcebd3"
      }
     }
    },
    "502648cb-26fe-496b-899f-84c8fe1dcbc0": {
     "id": "502648cb-26fe-496b-899f-84c8fe1dcbc0",
     "prev": "3f136f2a-f14c-4a4b-afea-13380556a79c",
     "regions": {
      "4c83bb4d-2a52-41ba-a77f-0c6efebd83a6": {
       "attrs": {
        "height": 0.8,
        "width": 0.8,
        "x": 0.1,
        "y": 0.1
       },
       "content": {
        "cell": "dbd22f6b-6d49-4005-b8fe-422ef8ef1d42",
        "part": "whole"
       },
       "id": "4c83bb4d-2a52-41ba-a77f-0c6efebd83a6"
      }
     }
    },
    "54cb8dfd-a89c-4922-867b-3c87d8b67cd3": {
     "id": "54cb8dfd-a89c-4922-867b-3c87d8b67cd3",
     "prev": "aa224267-f885-4c0c-95af-7bacfcc186d9",
     "regions": {
      "0848f0a7-032d-46c7-b35c-bfb69c83f961": {
       "attrs": {
        "height": 0.8,
        "width": 0.8,
        "x": 0.1,
        "y": 0.1
       },
       "content": {
        "cell": "3c32c557-d0e8-4bb3-a61a-aa51a767cd4e",
        "part": "whole"
       },
       "id": "0848f0a7-032d-46c7-b35c-bfb69c83f961"
      }
     }
    },
    "636b563c-faee-4c9e-a6a3-f46a905bfa82": {
     "id": "636b563c-faee-4c9e-a6a3-f46a905bfa82",
     "prev": "c5f59b98-a227-4344-9d6d-03abdd01c6aa",
     "regions": {
      "9c64f662-05dc-4b14-9cdc-d450b96f4368": {
       "attrs": {
        "height": 0.8,
        "width": 0.8,
        "x": 0.1,
        "y": 0.1
       },
       "content": {
        "cell": "70640ac0-7041-47a8-9a7f-e871defd74b2",
        "part": "whole"
       },
       "id": "9c64f662-05dc-4b14-9cdc-d450b96f4368"
      }
     }
    },
    "793cec2f-8413-484d-aa1e-388fd2b53a45": {
     "id": "793cec2f-8413-484d-aa1e-388fd2b53a45",
     "prev": "c66f3dfd-2d27-482b-be78-10ba733e826b",
     "regions": {
      "d08f9cfa-3b8d-4fb4-91ba-82d9858ea93e": {
       "attrs": {
        "height": 0.8,
        "width": 0.8,
        "x": 0.1,
        "y": 0.1
       },
       "content": {
        "cell": "dd56113e-e3db-41ae-91b7-2472ed194308",
        "part": "whole"
       },
       "id": "d08f9cfa-3b8d-4fb4-91ba-82d9858ea93e"
      }
     }
    },
    "83e912ff-260a-4391-8a12-331aba098506": {
     "id": "83e912ff-260a-4391-8a12-331aba098506",
     "prev": "fe5a0732-69f5-462a-8af6-851f84a9fdec",
     "regions": {
      "2fefcf5f-ea20-4604-a528-5e6c91bcb100": {
       "attrs": {
        "height": 0.8,
        "width": 0.8,
        "x": 0.1,
        "y": 0.1
       },
       "content": {
        "cell": "c3f2f57c-7454-4d3e-b38d-b0946cf066ea",
        "part": "whole"
       },
       "id": "2fefcf5f-ea20-4604-a528-5e6c91bcb100"
      }
     }
    },
    "851089af-9725-40c9-8f0b-9bf892b2b1fe": {
     "id": "851089af-9725-40c9-8f0b-9bf892b2b1fe",
     "prev": "636b563c-faee-4c9e-a6a3-f46a905bfa82",
     "regions": {
      "31c9dda5-fdf4-45e2-bcb7-12aa0f30e1d8": {
       "attrs": {
        "height": 0.8,
        "width": 0.8,
        "x": 0.1,
        "y": 0.1
       },
       "content": {
        "cell": "8408b90e-6cdd-44d1-86d3-648c23f877ac",
        "part": "whole"
       },
       "id": "31c9dda5-fdf4-45e2-bcb7-12aa0f30e1d8"
      }
     }
    },
    "87ab653d-e804-470f-bde9-c67caaa0f354": {
     "id": "87ab653d-e804-470f-bde9-c67caaa0f354",
     "prev": "a8c2d446-caee-42c8-886a-ed98f4935d78",
     "regions": {
      "bc3aeb56-c465-4868-a1ea-2de82584de98": {
       "attrs": {
        "height": 0.8,
        "width": 0.8,
        "x": 0.1,
        "y": 0.1
       },
       "content": {
        "cell": "59f52294-4a25-4c92-bab8-3b07f0f44d15",
        "part": "whole"
       },
       "id": "bc3aeb56-c465-4868-a1ea-2de82584de98"
      }
     }
    },
    "8b887c97-83bc-4395-83ac-f6703cbe243d": {
     "id": "8b887c97-83bc-4395-83ac-f6703cbe243d",
     "prev": "36a814c9-c540-4a6d-92d9-c03553d3d2c2",
     "regions": {
      "9d0bc72a-cb13-483f-a572-2bf60d0d145f": {
       "attrs": {
        "height": 0.8,
        "width": 0.8,
        "x": 0.1,
        "y": 0.1
       },
       "content": {
        "cell": "75499c85-d0a1-43db-8244-25778b9b2736",
        "part": "whole"
       },
       "id": "9d0bc72a-cb13-483f-a572-2bf60d0d145f"
      }
     }
    },
    "a8b9ceb9-b38f-4489-84df-b644c6fe28f2": {
     "id": "a8b9ceb9-b38f-4489-84df-b644c6fe28f2",
     "prev": null,
     "regions": {
      "f741ed94-3f24-4427-b615-3ab8753e5814": {
       "attrs": {
        "height": 0.8,
        "width": 0.8,
        "x": 0.1,
        "y": 0.1
       },
       "content": {
        "cell": "bf74d2e9-2708-49b1-934b-e0ede342f475",
        "part": "whole"
       },
       "id": "f741ed94-3f24-4427-b615-3ab8753e5814"
      }
     }
    },
    "a8c2d446-caee-42c8-886a-ed98f4935d78": {
     "id": "a8c2d446-caee-42c8-886a-ed98f4935d78",
     "prev": "2dfec088-8a70-411a-9199-904ef3fa2383",
     "regions": {
      "f03457d8-b2a7-4e14-9a73-cab80c5b815d": {
       "attrs": {
        "height": 0.8,
        "width": 0.8,
        "x": 0.1,
        "y": 0.1
       },
       "content": {
        "cell": "edaa7f2f-2439-4148-b57a-8c794c0945ec",
        "part": "whole"
       },
       "id": "f03457d8-b2a7-4e14-9a73-cab80c5b815d"
      }
     }
    },
    "aa224267-f885-4c0c-95af-7bacfcc186d9": {
     "id": "aa224267-f885-4c0c-95af-7bacfcc186d9",
     "prev": "793cec2f-8413-484d-aa1e-388fd2b53a45",
     "regions": {
      "0d7ac442-5e1d-49a5-91b3-1432d72449d8": {
       "attrs": {
        "height": 0.8,
        "width": 0.8,
        "x": 0.1,
        "y": 0.1
       },
       "content": {
        "cell": "4d6826fe-2cb8-4468-85ed-a242a1ce7155",
        "part": "whole"
       },
       "id": "0d7ac442-5e1d-49a5-91b3-1432d72449d8"
      }
     }
    },
    "b52e4d09-5186-44e5-84db-3371c087acde": {
     "id": "b52e4d09-5186-44e5-84db-3371c087acde",
     "prev": "134f92d0-6389-4226-af51-1134ae8e8278",
     "regions": {
      "7af7d997-80b2-497d-bced-ef8341763439": {
       "attrs": {
        "height": 0.8,
        "width": 0.8,
        "x": 0.1,
        "y": 0.1
       },
       "content": {
        "cell": "376882ec-d469-4fad-9462-18e4bbea64ca",
        "part": "whole"
       },
       "id": "7af7d997-80b2-497d-bced-ef8341763439"
      }
     }
    },
    "c5f59b98-a227-4344-9d6d-03abdd01c6aa": {
     "id": "c5f59b98-a227-4344-9d6d-03abdd01c6aa",
     "prev": "83e912ff-260a-4391-8a12-331aba098506",
     "regions": {
      "7268abff-0540-4c06-aefc-c386410c0953": {
       "attrs": {
        "height": 0.8,
        "width": 0.8,
        "x": 0.1,
        "y": 0.1
       },
       "content": {
        "cell": "396d478b-34aa-4afa-9898-cdce8222a516",
        "part": "whole"
       },
       "id": "7268abff-0540-4c06-aefc-c386410c0953"
      }
     }
    },
    "c66f3dfd-2d27-482b-be78-10ba733e826b": {
     "id": "c66f3dfd-2d27-482b-be78-10ba733e826b",
     "prev": "8b887c97-83bc-4395-83ac-f6703cbe243d",
     "regions": {
      "6cbe8e0e-8645-41a1-8a38-e44acb81be4b": {
       "attrs": {
        "height": 0.8,
        "width": 0.8,
        "x": 0.1,
        "y": 0.1
       },
       "content": {
        "cell": "7594c7c7-b808-48f7-9500-d7830a07968a",
        "part": "whole"
       },
       "id": "6cbe8e0e-8645-41a1-8a38-e44acb81be4b"
      }
     }
    },
    "d22045e5-7e3e-452e-bc7b-c6c4a893da8e": {
     "id": "d22045e5-7e3e-452e-bc7b-c6c4a893da8e",
     "prev": "ec41f96a-63a3-4825-9295-f4657a440ddb",
     "regions": {
      "24e2a3a9-bf65-4dab-927f-0bf6ffbe581d": {
       "attrs": {
        "height": 0.8,
        "width": 0.8,
        "x": 0.1,
        "y": 0.1
       },
       "content": {
        "cell": "defe921f-8097-44c3-8336-8af6700804a7",
        "part": "whole"
       },
       "id": "24e2a3a9-bf65-4dab-927f-0bf6ffbe581d"
      }
     }
    },
    "d24c958c-e419-4e4d-aa9c-d228a8ca55e4": {
     "id": "d24c958c-e419-4e4d-aa9c-d228a8ca55e4",
     "prev": "11bebe14-d1dc-476d-a31a-5828b9c3adf0",
     "regions": {
      "25312144-9faa-4680-bb8e-6307ea71370f": {
       "attrs": {
        "height": 0.8,
        "width": 0.8,
        "x": 0.1,
        "y": 0.1
       },
       "content": {
        "cell": "bed09a92-9a7a-473b-9464-90e479883a3e",
        "part": "whole"
       },
       "id": "25312144-9faa-4680-bb8e-6307ea71370f"
      }
     }
    },
    "ec41f96a-63a3-4825-9295-f4657a440ddb": {
     "id": "ec41f96a-63a3-4825-9295-f4657a440ddb",
     "prev": "87ab653d-e804-470f-bde9-c67caaa0f354",
     "regions": {
      "22e8be98-c254-4d04-b0e4-b9b5ae46eefe": {
       "attrs": {
        "height": 0.8,
        "width": 0.8,
        "x": 0.1,
        "y": 0.1
       },
       "content": {
        "cell": "bc70f780-c240-4779-96f3-bc5ef9a37d59",
        "part": "whole"
       },
       "id": "22e8be98-c254-4d04-b0e4-b9b5ae46eefe"
      }
     }
    },
    "fe5a0732-69f5-462a-8af6-851f84a9fdec": {
     "id": "fe5a0732-69f5-462a-8af6-851f84a9fdec",
     "prev": "d22045e5-7e3e-452e-bc7b-c6c4a893da8e",
     "regions": {
      "671b89f5-fa9c-4bc1-bdeb-6e0a4ce8939b": {
       "attrs": {
        "height": 0.8,
        "width": 0.8,
        "x": 0.1,
        "y": 0.1
       },
       "content": {
        "cell": "fd46e2ab-4ab6-4001-b536-1f323525d7d3",
        "part": "whole"
       },
       "id": "671b89f5-fa9c-4bc1-bdeb-6e0a4ce8939b"
      }
     }
    }
   },
   "themes": {}
  },
  "notebookId": 1951564739234077
 },
 "nbformat": 4,
 "nbformat_minor": 1
}
