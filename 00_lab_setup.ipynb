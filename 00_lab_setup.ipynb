{
 "cells": [
  {
   "cell_type": "markdown",
   "metadata": {},
   "source": [
    "Let's download the course content:"
   ]
  },
  {
   "cell_type": "code",
   "execution_count": 1,
   "metadata": {},
   "outputs": [
    {
     "name": "stdout",
     "output_type": "stream",
     "text": [
      "Cloning into 'Ignite2019-pre-day'...\n",
      "remote: Enumerating objects: 64, done.\u001b[K\n",
      "remote: Counting objects: 100% (64/64), done.\u001b[K\n",
      "remote: Compressing objects: 100% (48/48), done.\u001b[K\n",
      "remote: Total 362 (delta 20), reused 53 (delta 14), pack-reused 298\u001b[K\n",
      "Receiving objects: 100% (362/362), 4.44 MiB | 0 bytes/s, done.\n",
      "Resolving deltas: 100% (148/148), done.\n",
      "Checking connectivity... done.\n"
     ]
    }
   ],
   "source": [
    "!git clone https://github.com/Azure/Ignite2019-pre-day.git"
   ]
  },
  {
   "cell_type": "markdown",
   "metadata": {},
   "source": [
    "We need to install the following Python package (used to produce visualizations):"
   ]
  },
  {
   "cell_type": "code",
   "execution_count": 1,
   "metadata": {},
   "outputs": [
    {
     "name": "stdout",
     "output_type": "stream",
     "text": [
      "Collecting seaborn\n",
      "\u001b[?25l  Downloading https://files.pythonhosted.org/packages/a8/76/220ba4420459d9c4c9c9587c6ce607bf56c25b3d3d2de62056efe482dadc/seaborn-0.9.0-py3-none-any.whl (208kB)\n",
      "\u001b[K     |████████████████████████████████| 215kB 2.5MB/s eta 0:00:01\n",
      "\u001b[?25hRequirement already satisfied: matplotlib>=1.4.3 in /data/anaconda/envs/py36/lib/python3.6/site-packages (from seaborn) (3.1.0)\n",
      "Requirement already satisfied: numpy>=1.9.3 in /data/anaconda/envs/py36/lib/python3.6/site-packages (from seaborn) (1.16.2)\n",
      "Requirement already satisfied: scipy>=0.14.0 in /data/anaconda/envs/py36/lib/python3.6/site-packages (from seaborn) (1.1.0)\n",
      "Requirement already satisfied: pandas>=0.15.2 in /data/anaconda/envs/py36/lib/python3.6/site-packages (from seaborn) (0.23.4)\n",
      "Requirement already satisfied: cycler>=0.10 in /data/anaconda/envs/py36/lib/python3.6/site-packages (from matplotlib>=1.4.3->seaborn) (0.10.0)\n",
      "Requirement already satisfied: kiwisolver>=1.0.1 in /data/anaconda/envs/py36/lib/python3.6/site-packages (from matplotlib>=1.4.3->seaborn) (1.1.0)\n",
      "Requirement already satisfied: pyparsing!=2.0.4,!=2.1.2,!=2.1.6,>=2.0.1 in /data/anaconda/envs/py36/lib/python3.6/site-packages (from matplotlib>=1.4.3->seaborn) (2.4.0)\n",
      "Requirement already satisfied: python-dateutil>=2.1 in /data/anaconda/envs/py36/lib/python3.6/site-packages (from matplotlib>=1.4.3->seaborn) (2.8.0)\n",
      "Requirement already satisfied: pytz>=2011k in /data/anaconda/envs/py36/lib/python3.6/site-packages (from pandas>=0.15.2->seaborn) (2019.1)\n",
      "Requirement already satisfied: six in /data/anaconda/envs/py36/lib/python3.6/site-packages (from cycler>=0.10->matplotlib>=1.4.3->seaborn) (1.12.0)\n",
      "Requirement already satisfied: setuptools in /data/anaconda/envs/py36/lib/python3.6/site-packages (from kiwisolver>=1.0.1->matplotlib>=1.4.3->seaborn) (41.0.1)\n",
      "Installing collected packages: seaborn\n",
      "Successfully installed seaborn-0.9.0\n"
     ]
    }
   ],
   "source": [
    "!pip install seaborn"
   ]
  },
  {
   "cell_type": "markdown",
   "metadata": {},
   "source": [
    "Fill up the following two cells by looking them up in the page with all the credentials."
   ]
  },
  {
   "cell_type": "code",
   "execution_count": 4,
   "metadata": {},
   "outputs": [
    {
     "name": "stdout",
     "output_type": "stream",
     "text": [
      "Writing /home/labuser/config.json\n"
     ]
    }
   ],
   "source": [
    "%%writefile ~/config.json\n",
    "{\n",
    "    \"subscription_id\": \"\",\n",
    "    \"resource_group\": \"\",\n",
    "    \"workspace_name\": \"\"\n",
    "}"
   ]
  },
  {
   "cell_type": "code",
   "execution_count": 5,
   "metadata": {},
   "outputs": [],
   "source": [
    "from azureml.core.authentication import ServicePrincipalAuthentication\n",
    "from azureml.core.workspace import Workspace\n",
    "\n",
    "auth = ServicePrincipalAuthentication(tenant_id = '',\n",
    "                                      service_principal_id = '', \n",
    "                                      service_principal_password = '')\n",
    "ws = Workspace.from_config(auth = auth)"
   ]
  },
  {
   "cell_type": "code",
   "execution_count": 6,
   "metadata": {},
   "outputs": [
    {
     "data": {
      "text/plain": [
       "Workspace.create(name='AML-workspace-105271', subscription_id='41ca5ed7-3e4f-4a30-b857-9cdad18ad91e', resource_group='ODL-machine-learning-105271')"
      ]
     },
     "execution_count": 6,
     "metadata": {},
     "output_type": "execute_result"
    }
   ],
   "source": [
    "ws"
   ]
  }
 ],
 "metadata": {
  "kernelspec": {
   "display_name": "Python 3",
   "language": "python",
   "name": "python3"
  },
  "language_info": {
   "codemirror_mode": {
    "name": "ipython",
    "version": 3
   },
   "file_extension": ".py",
   "mimetype": "text/x-python",
   "name": "python",
   "nbconvert_exporter": "python",
   "pygments_lexer": "ipython3",
   "version": "3.6.9"
  }
 },
 "nbformat": 4,
 "nbformat_minor": 2
}
